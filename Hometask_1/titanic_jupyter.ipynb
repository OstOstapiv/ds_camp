{
 "cells": [
  {
   "cell_type": "code",
   "execution_count": 1,
   "id": "308f932c-8991-4ff4-8126-d1e323eafb19",
   "metadata": {},
   "outputs": [],
   "source": [
    "import os\n",
    "import pandas as pd\n",
    "import numpy as np\n",
    "import seaborn as sns\n",
    "\n",
    "import matplotlib.pyplot as plt\n",
    "%matplotlib inline\n",
    "plt.rcParams['font.size'] = 15"
   ]
  },
  {
   "cell_type": "code",
   "execution_count": 261,
   "id": "a1faefde-6002-403e-a91d-4aaaeb46e9b8",
   "metadata": {},
   "outputs": [],
   "source": [
    "def get_train_set():\n",
    "    cwd = os.getcwd()\n",
    "    path = os.path.join(cwd,'data')\n",
    "    titanic_train_path =  os.path.join(path , 'train.csv')\n",
    "    titanic_test_path = os.path.join(path, 'test.csv')\n",
    "    titanic_gender_path = os.path.join(path, 'gender_submission.csv')\n",
    "\n",
    "    gender_df = pd.read_csv(titanic_gender_path)\n",
    "    test_csv = pd.read_csv(titanic_test_path)\n",
    "    train_csv = pd.read_csv(titanic_train_path)\n",
    "    \n",
    "    test_gender_df = test_csv.merge(gender_df, left_on='PassengerId', right_on='PassengerId')\n",
    "    train_df = pd.concat([train_csv, test_gender_df], ignore_index=True, sort = False)\n",
    "    train_df.set_index('PassengerId', inplace=True)\n",
    "    \n",
    "    return train_df"
   ]
  },
  {
   "cell_type": "code",
   "execution_count": 262,
   "id": "a1bca50b-d294-4c78-93b0-e19f64cac4d5",
   "metadata": {},
   "outputs": [],
   "source": [
    "from sklearn.preprocessing import LabelEncoder\n",
    "\n",
    "def get_label_encoder(df, columns_to_encode):\n",
    "    columns_to_encode = [col for col in df.columns.to_list() if df.nunique()[col]<=5]\n",
    "    df = df.copy()\n",
    "\n",
    "    for col in columns_to_encode:\n",
    "        df[col] = LabelEncoder().fit_transform(df[col])\n",
    "    return df"
   ]
  },
  {
   "cell_type": "code",
   "execution_count": 263,
   "id": "6f553fe5-342c-4d23-90a1-c52c35baca9b",
   "metadata": {},
   "outputs": [],
   "source": [
    "train_df = get_train_set()"
   ]
  },
  {
   "cell_type": "code",
   "execution_count": 264,
   "id": "8abb599c-cd36-4408-8d17-d916a0381b1f",
   "metadata": {},
   "outputs": [
    {
     "data": {
      "text/plain": [
       "(1309, 11)"
      ]
     },
     "execution_count": 264,
     "metadata": {},
     "output_type": "execute_result"
    }
   ],
   "source": [
    "train_df.shape"
   ]
  },
  {
   "cell_type": "code",
   "execution_count": 265,
   "id": "e7162fb9-db3f-4c23-883b-a013bee75c8c",
   "metadata": {},
   "outputs": [
    {
     "data": {
      "text/html": [
       "<div>\n",
       "<style scoped>\n",
       "    .dataframe tbody tr th:only-of-type {\n",
       "        vertical-align: middle;\n",
       "    }\n",
       "\n",
       "    .dataframe tbody tr th {\n",
       "        vertical-align: top;\n",
       "    }\n",
       "\n",
       "    .dataframe thead th {\n",
       "        text-align: right;\n",
       "    }\n",
       "</style>\n",
       "<table border=\"1\" class=\"dataframe\">\n",
       "  <thead>\n",
       "    <tr style=\"text-align: right;\">\n",
       "      <th></th>\n",
       "      <th>Survived</th>\n",
       "      <th>Pclass</th>\n",
       "      <th>Name</th>\n",
       "      <th>Sex</th>\n",
       "      <th>Age</th>\n",
       "      <th>SibSp</th>\n",
       "      <th>Parch</th>\n",
       "      <th>Ticket</th>\n",
       "      <th>Fare</th>\n",
       "      <th>Cabin</th>\n",
       "      <th>Embarked</th>\n",
       "    </tr>\n",
       "    <tr>\n",
       "      <th>PassengerId</th>\n",
       "      <th></th>\n",
       "      <th></th>\n",
       "      <th></th>\n",
       "      <th></th>\n",
       "      <th></th>\n",
       "      <th></th>\n",
       "      <th></th>\n",
       "      <th></th>\n",
       "      <th></th>\n",
       "      <th></th>\n",
       "      <th></th>\n",
       "    </tr>\n",
       "  </thead>\n",
       "  <tbody>\n",
       "    <tr>\n",
       "      <th>1</th>\n",
       "      <td>0</td>\n",
       "      <td>3</td>\n",
       "      <td>Braund, Mr. Owen Harris</td>\n",
       "      <td>male</td>\n",
       "      <td>22.0</td>\n",
       "      <td>1</td>\n",
       "      <td>0</td>\n",
       "      <td>A/5 21171</td>\n",
       "      <td>7.2500</td>\n",
       "      <td>NaN</td>\n",
       "      <td>S</td>\n",
       "    </tr>\n",
       "    <tr>\n",
       "      <th>2</th>\n",
       "      <td>1</td>\n",
       "      <td>1</td>\n",
       "      <td>Cumings, Mrs. John Bradley (Florence Briggs Th...</td>\n",
       "      <td>female</td>\n",
       "      <td>38.0</td>\n",
       "      <td>1</td>\n",
       "      <td>0</td>\n",
       "      <td>PC 17599</td>\n",
       "      <td>71.2833</td>\n",
       "      <td>C85</td>\n",
       "      <td>C</td>\n",
       "    </tr>\n",
       "    <tr>\n",
       "      <th>3</th>\n",
       "      <td>1</td>\n",
       "      <td>3</td>\n",
       "      <td>Heikkinen, Miss. Laina</td>\n",
       "      <td>female</td>\n",
       "      <td>26.0</td>\n",
       "      <td>0</td>\n",
       "      <td>0</td>\n",
       "      <td>STON/O2. 3101282</td>\n",
       "      <td>7.9250</td>\n",
       "      <td>NaN</td>\n",
       "      <td>S</td>\n",
       "    </tr>\n",
       "    <tr>\n",
       "      <th>4</th>\n",
       "      <td>1</td>\n",
       "      <td>1</td>\n",
       "      <td>Futrelle, Mrs. Jacques Heath (Lily May Peel)</td>\n",
       "      <td>female</td>\n",
       "      <td>35.0</td>\n",
       "      <td>1</td>\n",
       "      <td>0</td>\n",
       "      <td>113803</td>\n",
       "      <td>53.1000</td>\n",
       "      <td>C123</td>\n",
       "      <td>S</td>\n",
       "    </tr>\n",
       "    <tr>\n",
       "      <th>5</th>\n",
       "      <td>0</td>\n",
       "      <td>3</td>\n",
       "      <td>Allen, Mr. William Henry</td>\n",
       "      <td>male</td>\n",
       "      <td>35.0</td>\n",
       "      <td>0</td>\n",
       "      <td>0</td>\n",
       "      <td>373450</td>\n",
       "      <td>8.0500</td>\n",
       "      <td>NaN</td>\n",
       "      <td>S</td>\n",
       "    </tr>\n",
       "  </tbody>\n",
       "</table>\n",
       "</div>"
      ],
      "text/plain": [
       "             Survived  Pclass  \\\n",
       "PassengerId                     \n",
       "1                   0       3   \n",
       "2                   1       1   \n",
       "3                   1       3   \n",
       "4                   1       1   \n",
       "5                   0       3   \n",
       "\n",
       "                                                          Name     Sex   Age  \\\n",
       "PassengerId                                                                    \n",
       "1                                      Braund, Mr. Owen Harris    male  22.0   \n",
       "2            Cumings, Mrs. John Bradley (Florence Briggs Th...  female  38.0   \n",
       "3                                       Heikkinen, Miss. Laina  female  26.0   \n",
       "4                 Futrelle, Mrs. Jacques Heath (Lily May Peel)  female  35.0   \n",
       "5                                     Allen, Mr. William Henry    male  35.0   \n",
       "\n",
       "             SibSp  Parch            Ticket     Fare Cabin Embarked  \n",
       "PassengerId                                                          \n",
       "1                1      0         A/5 21171   7.2500   NaN        S  \n",
       "2                1      0          PC 17599  71.2833   C85        C  \n",
       "3                0      0  STON/O2. 3101282   7.9250   NaN        S  \n",
       "4                1      0            113803  53.1000  C123        S  \n",
       "5                0      0            373450   8.0500   NaN        S  "
      ]
     },
     "execution_count": 265,
     "metadata": {},
     "output_type": "execute_result"
    }
   ],
   "source": [
    "train_df.head()"
   ]
  },
  {
   "cell_type": "code",
   "execution_count": 266,
   "id": "8e527a15-680c-4acf-be1a-e2573cf237ba",
   "metadata": {},
   "outputs": [
    {
     "data": {
      "text/plain": [
       "Survived       2\n",
       "Pclass         3\n",
       "Name        1307\n",
       "Sex            2\n",
       "Age           98\n",
       "SibSp          7\n",
       "Parch          8\n",
       "Ticket       929\n",
       "Fare         281\n",
       "Cabin        186\n",
       "Embarked       3\n",
       "dtype: int64"
      ]
     },
     "execution_count": 266,
     "metadata": {},
     "output_type": "execute_result"
    }
   ],
   "source": [
    "train_df.nunique()"
   ]
  },
  {
   "cell_type": "code",
   "execution_count": 267,
   "id": "963c9cce-c333-4002-abd5-ecffc54344f1",
   "metadata": {},
   "outputs": [
    {
     "data": {
      "text/plain": [
       "Survived       0\n",
       "Pclass         0\n",
       "Name           0\n",
       "Sex            0\n",
       "Age          263\n",
       "SibSp          0\n",
       "Parch          0\n",
       "Ticket         0\n",
       "Fare           1\n",
       "Cabin       1014\n",
       "Embarked       2\n",
       "dtype: int64"
      ]
     },
     "execution_count": 267,
     "metadata": {},
     "output_type": "execute_result"
    }
   ],
   "source": [
    "train_df.isna().sum()"
   ]
  },
  {
   "cell_type": "code",
   "execution_count": 268,
   "id": "3785af99-c13c-4f68-a8bf-2e88957d851d",
   "metadata": {},
   "outputs": [
    {
     "data": {
      "text/plain": [
       "Survived      int64\n",
       "Pclass        int64\n",
       "Name         object\n",
       "Sex          object\n",
       "Age         float64\n",
       "SibSp         int64\n",
       "Parch         int64\n",
       "Ticket       object\n",
       "Fare        float64\n",
       "Cabin        object\n",
       "Embarked     object\n",
       "dtype: object"
      ]
     },
     "execution_count": 268,
     "metadata": {},
     "output_type": "execute_result"
    }
   ],
   "source": [
    "train_df.dtypes"
   ]
  },
  {
   "cell_type": "code",
   "execution_count": 269,
   "id": "da9ef436-9553-405e-bf15-7e38301325ba",
   "metadata": {},
   "outputs": [
    {
     "data": {
      "text/plain": [
       "count    1308.000000\n",
       "mean       33.295479\n",
       "std        51.758668\n",
       "min         0.000000\n",
       "25%         7.895800\n",
       "50%        14.454200\n",
       "75%        31.275000\n",
       "max       512.329200\n",
       "Name: Fare, dtype: float64"
      ]
     },
     "execution_count": 269,
     "metadata": {},
     "output_type": "execute_result"
    }
   ],
   "source": [
    "train_df['Fare'].describe()"
   ]
  },
  {
   "cell_type": "code",
   "execution_count": 270,
   "id": "51b56c3c-2a76-4d1e-811c-a1af72db05ab",
   "metadata": {},
   "outputs": [],
   "source": [
    "train_df['Fare'] = train_df['Fare'].mask(train_df['Fare'].isna(), train_df['Fare'].mean())\n",
    "train_df['Fare'] = pd.cut(train_df['Fare'], bins=[0, 7.89, 14.45, 31.27, 512.32], labels=['small','enough',\n",
    "                                                                                      'more than enough', 'many'])\n",
    "# train_df['Fare'] = train_df['Fare'].mask(train_df['Fare']==0, train_df['Fare'].mean())\n",
    "\n",
    "# a = train_df['Fare'].quantile(0.25)\n",
    "# b = train_df['Fare'].quantile(0.75)\n",
    "# train_df = train_df[train_df['Fare']< b+(b-a)*1.5]\n",
    "\n",
    "# train_df['Fare'] = train_df['Fare'].mask(train_df['Fare']==0, train_df['Fare'].mean())\n",
    "# train_df['Fare'] = train_df.mask(train_df['Fare'] > b+(b-a)*1.5, train_df[Fare].mean())"
   ]
  },
  {
   "cell_type": "code",
   "execution_count": 271,
   "id": "297b7de0-3a95-4a0d-83cd-1f0aba41bad4",
   "metadata": {},
   "outputs": [],
   "source": [
    "# train_df['Fare'] = train_df['Fare'].mask(train_df['Fare']==0, train_df['Fare'].mean())"
   ]
  },
  {
   "cell_type": "code",
   "execution_count": 272,
   "id": "aaaa032a-8b07-4102-8fe6-5b4fa6f37fa0",
   "metadata": {},
   "outputs": [],
   "source": [
    "train_df = get_label_encoder(train_df, ['Sex', 'Fare'])"
   ]
  },
  {
   "cell_type": "code",
   "execution_count": 273,
   "id": "c0831de3-bcc1-41b1-b61d-90e3a09a3b9b",
   "metadata": {},
   "outputs": [],
   "source": [
    "# train_df['Fare_Category'] = train_df['Fare_Category'].mask(train_df['Fare_Category']==0, train_df['Fare_Category'].median())"
   ]
  },
  {
   "cell_type": "code",
   "execution_count": 274,
   "id": "41177aea-2917-4161-846c-166bae211286",
   "metadata": {},
   "outputs": [],
   "source": [
    "train_df['Age'] = train_df['Age'].fillna(train_df['Age'].mean()).astype('int64')\n",
    "train_df['Age'] = train_df['Age'].mask(train_df['Age'] == 0, train_df['Age'].mean())\n",
    "train_df['Age'] = pd.cut(train_df['Age'], bins=[0, 18, 35, 60, 80], labels=['child','mid',\n",
    "                                                                                      'mid_old','old'])\n",
    "# train_df['Age'] = train_df['Age'].mask(train_df['Age']<18, 1)\n",
    "# train_df['Age'] = train_df['Age'].mask(\n",
    "#     (train_df['Age']>=18) & (train_df['Age']<=40), 2)\n",
    "# train_df['Age'] = train_df['Age'].mask(\n",
    "#     (train_df['Age']>=40) & (train_df['Age']<60), 3)\n",
    "# train_df['Age'] = train_df['Age'].mask(train_df['Age']>=60, 4)"
   ]
  },
  {
   "cell_type": "code",
   "execution_count": 275,
   "id": "0b6e0787-b31f-42e1-9f6f-0dac53000ec4",
   "metadata": {},
   "outputs": [
    {
     "data": {
      "text/plain": [
       "mid        803\n",
       "mid_old    290\n",
       "child      184\n",
       "old         32\n",
       "Name: Age, dtype: int64"
      ]
     },
     "execution_count": 275,
     "metadata": {},
     "output_type": "execute_result"
    }
   ],
   "source": [
    "train_df['Age'].value_counts()"
   ]
  },
  {
   "cell_type": "code",
   "execution_count": 276,
   "id": "01f39548-eb29-476b-9a3f-7b36d7893e00",
   "metadata": {},
   "outputs": [],
   "source": [
    "train_df['Family'] = train_df['Parch']+train_df['SibSp']\n",
    "train_df['Alone'] = train_df['Family'] == 0"
   ]
  },
  {
   "cell_type": "code",
   "execution_count": 277,
   "id": "28f5d3d1-d47c-4ee8-83ad-b2ce5d183073",
   "metadata": {},
   "outputs": [],
   "source": [
    "# train_df.dropna(inplace=True)"
   ]
  },
  {
   "cell_type": "code",
   "execution_count": 278,
   "id": "89a70a10-c5b6-4978-91c6-3ff18a873083",
   "metadata": {},
   "outputs": [
    {
     "data": {
      "text/plain": [
       "Survived       int64\n",
       "Pclass         int64\n",
       "Name          object\n",
       "Sex            int64\n",
       "Age         category\n",
       "SibSp          int64\n",
       "Parch          int64\n",
       "Ticket        object\n",
       "Fare           int64\n",
       "Cabin         object\n",
       "Embarked       int64\n",
       "Family         int64\n",
       "Alone           bool\n",
       "dtype: object"
      ]
     },
     "execution_count": 278,
     "metadata": {},
     "output_type": "execute_result"
    }
   ],
   "source": [
    "train_df.dtypes"
   ]
  },
  {
   "cell_type": "code",
   "execution_count": 279,
   "id": "3f8def8b-40ac-45f2-b74f-59d8c9388214",
   "metadata": {},
   "outputs": [
    {
     "data": {
      "text/html": [
       "<div>\n",
       "<style scoped>\n",
       "    .dataframe tbody tr th:only-of-type {\n",
       "        vertical-align: middle;\n",
       "    }\n",
       "\n",
       "    .dataframe tbody tr th {\n",
       "        vertical-align: top;\n",
       "    }\n",
       "\n",
       "    .dataframe thead th {\n",
       "        text-align: right;\n",
       "    }\n",
       "</style>\n",
       "<table border=\"1\" class=\"dataframe\">\n",
       "  <thead>\n",
       "    <tr style=\"text-align: right;\">\n",
       "      <th></th>\n",
       "      <th>Survived</th>\n",
       "      <th>Pclass</th>\n",
       "      <th>Name</th>\n",
       "      <th>Sex</th>\n",
       "      <th>Age</th>\n",
       "      <th>SibSp</th>\n",
       "      <th>Parch</th>\n",
       "      <th>Ticket</th>\n",
       "      <th>Fare</th>\n",
       "      <th>Cabin</th>\n",
       "      <th>Embarked</th>\n",
       "      <th>Family</th>\n",
       "      <th>Alone</th>\n",
       "    </tr>\n",
       "    <tr>\n",
       "      <th>PassengerId</th>\n",
       "      <th></th>\n",
       "      <th></th>\n",
       "      <th></th>\n",
       "      <th></th>\n",
       "      <th></th>\n",
       "      <th></th>\n",
       "      <th></th>\n",
       "      <th></th>\n",
       "      <th></th>\n",
       "      <th></th>\n",
       "      <th></th>\n",
       "      <th></th>\n",
       "      <th></th>\n",
       "    </tr>\n",
       "  </thead>\n",
       "  <tbody>\n",
       "    <tr>\n",
       "      <th>1</th>\n",
       "      <td>0</td>\n",
       "      <td>2</td>\n",
       "      <td>Braund, Mr. Owen Harris</td>\n",
       "      <td>1</td>\n",
       "      <td>mid</td>\n",
       "      <td>1</td>\n",
       "      <td>0</td>\n",
       "      <td>A/5 21171</td>\n",
       "      <td>3</td>\n",
       "      <td>NaN</td>\n",
       "      <td>2</td>\n",
       "      <td>1</td>\n",
       "      <td>False</td>\n",
       "    </tr>\n",
       "    <tr>\n",
       "      <th>2</th>\n",
       "      <td>1</td>\n",
       "      <td>0</td>\n",
       "      <td>Cumings, Mrs. John Bradley (Florence Briggs Th...</td>\n",
       "      <td>0</td>\n",
       "      <td>mid_old</td>\n",
       "      <td>1</td>\n",
       "      <td>0</td>\n",
       "      <td>PC 17599</td>\n",
       "      <td>1</td>\n",
       "      <td>C85</td>\n",
       "      <td>0</td>\n",
       "      <td>1</td>\n",
       "      <td>False</td>\n",
       "    </tr>\n",
       "    <tr>\n",
       "      <th>3</th>\n",
       "      <td>1</td>\n",
       "      <td>2</td>\n",
       "      <td>Heikkinen, Miss. Laina</td>\n",
       "      <td>0</td>\n",
       "      <td>mid</td>\n",
       "      <td>0</td>\n",
       "      <td>0</td>\n",
       "      <td>STON/O2. 3101282</td>\n",
       "      <td>0</td>\n",
       "      <td>NaN</td>\n",
       "      <td>2</td>\n",
       "      <td>0</td>\n",
       "      <td>True</td>\n",
       "    </tr>\n",
       "    <tr>\n",
       "      <th>4</th>\n",
       "      <td>1</td>\n",
       "      <td>0</td>\n",
       "      <td>Futrelle, Mrs. Jacques Heath (Lily May Peel)</td>\n",
       "      <td>0</td>\n",
       "      <td>mid</td>\n",
       "      <td>1</td>\n",
       "      <td>0</td>\n",
       "      <td>113803</td>\n",
       "      <td>1</td>\n",
       "      <td>C123</td>\n",
       "      <td>2</td>\n",
       "      <td>1</td>\n",
       "      <td>False</td>\n",
       "    </tr>\n",
       "    <tr>\n",
       "      <th>5</th>\n",
       "      <td>0</td>\n",
       "      <td>2</td>\n",
       "      <td>Allen, Mr. William Henry</td>\n",
       "      <td>1</td>\n",
       "      <td>mid</td>\n",
       "      <td>0</td>\n",
       "      <td>0</td>\n",
       "      <td>373450</td>\n",
       "      <td>0</td>\n",
       "      <td>NaN</td>\n",
       "      <td>2</td>\n",
       "      <td>0</td>\n",
       "      <td>True</td>\n",
       "    </tr>\n",
       "  </tbody>\n",
       "</table>\n",
       "</div>"
      ],
      "text/plain": [
       "             Survived  Pclass  \\\n",
       "PassengerId                     \n",
       "1                   0       2   \n",
       "2                   1       0   \n",
       "3                   1       2   \n",
       "4                   1       0   \n",
       "5                   0       2   \n",
       "\n",
       "                                                          Name  Sex      Age  \\\n",
       "PassengerId                                                                    \n",
       "1                                      Braund, Mr. Owen Harris    1      mid   \n",
       "2            Cumings, Mrs. John Bradley (Florence Briggs Th...    0  mid_old   \n",
       "3                                       Heikkinen, Miss. Laina    0      mid   \n",
       "4                 Futrelle, Mrs. Jacques Heath (Lily May Peel)    0      mid   \n",
       "5                                     Allen, Mr. William Henry    1      mid   \n",
       "\n",
       "             SibSp  Parch            Ticket  Fare Cabin  Embarked  Family  \\\n",
       "PassengerId                                                                 \n",
       "1                1      0         A/5 21171     3   NaN         2       1   \n",
       "2                1      0          PC 17599     1   C85         0       1   \n",
       "3                0      0  STON/O2. 3101282     0   NaN         2       0   \n",
       "4                1      0            113803     1  C123         2       1   \n",
       "5                0      0            373450     0   NaN         2       0   \n",
       "\n",
       "             Alone  \n",
       "PassengerId         \n",
       "1            False  \n",
       "2            False  \n",
       "3             True  \n",
       "4            False  \n",
       "5             True  "
      ]
     },
     "execution_count": 279,
     "metadata": {},
     "output_type": "execute_result"
    }
   ],
   "source": [
    "train_df.head()"
   ]
  },
  {
   "cell_type": "code",
   "execution_count": 280,
   "id": "3e622287-18b7-422d-8da0-10f8cf2d2998",
   "metadata": {},
   "outputs": [
    {
     "data": {
      "text/html": [
       "<div>\n",
       "<style scoped>\n",
       "    .dataframe tbody tr th:only-of-type {\n",
       "        vertical-align: middle;\n",
       "    }\n",
       "\n",
       "    .dataframe tbody tr th {\n",
       "        vertical-align: top;\n",
       "    }\n",
       "\n",
       "    .dataframe thead th {\n",
       "        text-align: right;\n",
       "    }\n",
       "</style>\n",
       "<table border=\"1\" class=\"dataframe\">\n",
       "  <thead>\n",
       "    <tr style=\"text-align: right;\">\n",
       "      <th></th>\n",
       "      <th>Survived</th>\n",
       "      <th>Pclass</th>\n",
       "      <th>Sex</th>\n",
       "      <th>SibSp</th>\n",
       "      <th>Parch</th>\n",
       "      <th>Fare</th>\n",
       "      <th>Embarked</th>\n",
       "      <th>Family</th>\n",
       "      <th>Alone</th>\n",
       "    </tr>\n",
       "  </thead>\n",
       "  <tbody>\n",
       "    <tr>\n",
       "      <th>Survived</th>\n",
       "      <td>1.000000</td>\n",
       "      <td>-0.264710</td>\n",
       "      <td>-0.688371</td>\n",
       "      <td>0.002370</td>\n",
       "      <td>0.108919</td>\n",
       "      <td>-0.010694</td>\n",
       "      <td>-0.132420</td>\n",
       "      <td>0.061090</td>\n",
       "      <td>-0.216299</td>\n",
       "    </tr>\n",
       "    <tr>\n",
       "      <th>Pclass</th>\n",
       "      <td>-0.264710</td>\n",
       "      <td>1.000000</td>\n",
       "      <td>0.124617</td>\n",
       "      <td>0.060832</td>\n",
       "      <td>0.018322</td>\n",
       "      <td>0.150777</td>\n",
       "      <td>0.182154</td>\n",
       "      <td>0.050027</td>\n",
       "      <td>0.147393</td>\n",
       "    </tr>\n",
       "    <tr>\n",
       "      <th>Sex</th>\n",
       "      <td>-0.688371</td>\n",
       "      <td>0.124617</td>\n",
       "      <td>1.000000</td>\n",
       "      <td>-0.109609</td>\n",
       "      <td>-0.213125</td>\n",
       "      <td>0.004762</td>\n",
       "      <td>0.095215</td>\n",
       "      <td>-0.188583</td>\n",
       "      <td>0.284537</td>\n",
       "    </tr>\n",
       "    <tr>\n",
       "      <th>SibSp</th>\n",
       "      <td>0.002370</td>\n",
       "      <td>0.060832</td>\n",
       "      <td>-0.109609</td>\n",
       "      <td>1.000000</td>\n",
       "      <td>0.373587</td>\n",
       "      <td>-0.033289</td>\n",
       "      <td>0.064519</td>\n",
       "      <td>0.861952</td>\n",
       "      <td>-0.591077</td>\n",
       "    </tr>\n",
       "    <tr>\n",
       "      <th>Parch</th>\n",
       "      <td>0.108919</td>\n",
       "      <td>0.018322</td>\n",
       "      <td>-0.213125</td>\n",
       "      <td>0.373587</td>\n",
       "      <td>1.000000</td>\n",
       "      <td>-0.035673</td>\n",
       "      <td>0.043835</td>\n",
       "      <td>0.792296</td>\n",
       "      <td>-0.549022</td>\n",
       "    </tr>\n",
       "    <tr>\n",
       "      <th>Fare</th>\n",
       "      <td>-0.010694</td>\n",
       "      <td>0.150777</td>\n",
       "      <td>0.004762</td>\n",
       "      <td>-0.033289</td>\n",
       "      <td>-0.035673</td>\n",
       "      <td>1.000000</td>\n",
       "      <td>-0.185753</td>\n",
       "      <td>-0.041394</td>\n",
       "      <td>0.022927</td>\n",
       "    </tr>\n",
       "    <tr>\n",
       "      <th>Embarked</th>\n",
       "      <td>-0.132420</td>\n",
       "      <td>0.182154</td>\n",
       "      <td>0.095215</td>\n",
       "      <td>0.064519</td>\n",
       "      <td>0.043835</td>\n",
       "      <td>-0.185753</td>\n",
       "      <td>1.000000</td>\n",
       "      <td>0.066396</td>\n",
       "      <td>0.063024</td>\n",
       "    </tr>\n",
       "    <tr>\n",
       "      <th>Family</th>\n",
       "      <td>0.061090</td>\n",
       "      <td>0.050027</td>\n",
       "      <td>-0.188583</td>\n",
       "      <td>0.861952</td>\n",
       "      <td>0.792296</td>\n",
       "      <td>-0.041394</td>\n",
       "      <td>0.066396</td>\n",
       "      <td>1.000000</td>\n",
       "      <td>-0.688864</td>\n",
       "    </tr>\n",
       "    <tr>\n",
       "      <th>Alone</th>\n",
       "      <td>-0.216299</td>\n",
       "      <td>0.147393</td>\n",
       "      <td>0.284537</td>\n",
       "      <td>-0.591077</td>\n",
       "      <td>-0.549022</td>\n",
       "      <td>0.022927</td>\n",
       "      <td>0.063024</td>\n",
       "      <td>-0.688864</td>\n",
       "      <td>1.000000</td>\n",
       "    </tr>\n",
       "  </tbody>\n",
       "</table>\n",
       "</div>"
      ],
      "text/plain": [
       "          Survived    Pclass       Sex     SibSp     Parch      Fare  \\\n",
       "Survived  1.000000 -0.264710 -0.688371  0.002370  0.108919 -0.010694   \n",
       "Pclass   -0.264710  1.000000  0.124617  0.060832  0.018322  0.150777   \n",
       "Sex      -0.688371  0.124617  1.000000 -0.109609 -0.213125  0.004762   \n",
       "SibSp     0.002370  0.060832 -0.109609  1.000000  0.373587 -0.033289   \n",
       "Parch     0.108919  0.018322 -0.213125  0.373587  1.000000 -0.035673   \n",
       "Fare     -0.010694  0.150777  0.004762 -0.033289 -0.035673  1.000000   \n",
       "Embarked -0.132420  0.182154  0.095215  0.064519  0.043835 -0.185753   \n",
       "Family    0.061090  0.050027 -0.188583  0.861952  0.792296 -0.041394   \n",
       "Alone    -0.216299  0.147393  0.284537 -0.591077 -0.549022  0.022927   \n",
       "\n",
       "          Embarked    Family     Alone  \n",
       "Survived -0.132420  0.061090 -0.216299  \n",
       "Pclass    0.182154  0.050027  0.147393  \n",
       "Sex       0.095215 -0.188583  0.284537  \n",
       "SibSp     0.064519  0.861952 -0.591077  \n",
       "Parch     0.043835  0.792296 -0.549022  \n",
       "Fare     -0.185753 -0.041394  0.022927  \n",
       "Embarked  1.000000  0.066396  0.063024  \n",
       "Family    0.066396  1.000000 -0.688864  \n",
       "Alone     0.063024 -0.688864  1.000000  "
      ]
     },
     "execution_count": 280,
     "metadata": {},
     "output_type": "execute_result"
    }
   ],
   "source": [
    "train_df.corr()"
   ]
  },
  {
   "cell_type": "code",
   "execution_count": 281,
   "id": "0556aa2f-0d23-4de1-9b33-332712b07de1",
   "metadata": {},
   "outputs": [
    {
     "data": {
      "image/png": "[encoded data removed]",
      "text/plain": [
       "<Figure size 864x576 with 2 Axes>"
      ]
     },
     "metadata": {},
     "output_type": "display_data"
    }
   ],
   "source": [
    "mask = np.zeros_like(train_df.corr())\n",
    "triangle_indices = np.triu_indices_from(mask)\n",
    "mask[triangle_indices] = True\n",
    "\n",
    "plt.figure(figsize=[12,8])\n",
    "sns.heatmap(train_df.corr(), mask=mask, annot=True, annot_kws={'size':14})\n",
    "sns.set_style('white')\n",
    "plt.xticks(fontsize=14)\n",
    "plt.yticks(fontsize=14)\n",
    "plt.show()"
   ]
  },
  {
   "cell_type": "code",
   "execution_count": 282,
   "id": "e123dab3-dcab-4071-9e43-46dec4c4bfef",
   "metadata": {},
   "outputs": [],
   "source": [
    "col_to_drop = ['Name', 'SibSp', 'Parch', 'Ticket', 'Cabin', 'Family', 'Embarked'] # 'Embraked', 'Age'\n",
    "# col_to_drop = ['Pclass', 'Name', 'SibSp', 'Parch', 'Ticket', 'Cabin', 'Family', 'Age', 'Embarked', 'Fare', 'Fare_Category']\n",
    "# col_to_drop = ['Name', 'SibSp', 'Parch', 'Ticket', 'Cabin', 'first_pclass_fare', 'second_pclass_fare', 'thirth_pclass_fare', 'Family'] # 'Embraked'\n",
    "train_df.drop(columns=col_to_drop, inplace=True)"
   ]
  },
  {
   "cell_type": "code",
   "execution_count": 283,
   "id": "da041881-677a-453a-9a31-9832fb78ff2c",
   "metadata": {},
   "outputs": [],
   "source": [
    "train_df.dropna(inplace=True)"
   ]
  },
  {
   "cell_type": "code",
   "execution_count": 284,
   "id": "6bb2b0cc-df2b-4b1f-a860-d4524b2b5b79",
   "metadata": {},
   "outputs": [],
   "source": [
    "train_df = get_label_encoder(train_df, 'Age')"
   ]
  },
  {
   "cell_type": "code",
   "execution_count": 285,
   "id": "b9035349-744f-49a9-a8a0-e2870f42880e",
   "metadata": {},
   "outputs": [
    {
     "data": {
      "text/html": [
       "<div>\n",
       "<style scoped>\n",
       "    .dataframe tbody tr th:only-of-type {\n",
       "        vertical-align: middle;\n",
       "    }\n",
       "\n",
       "    .dataframe tbody tr th {\n",
       "        vertical-align: top;\n",
       "    }\n",
       "\n",
       "    .dataframe thead th {\n",
       "        text-align: right;\n",
       "    }\n",
       "</style>\n",
       "<table border=\"1\" class=\"dataframe\">\n",
       "  <thead>\n",
       "    <tr style=\"text-align: right;\">\n",
       "      <th></th>\n",
       "      <th>Survived</th>\n",
       "      <th>Pclass</th>\n",
       "      <th>Sex</th>\n",
       "      <th>Age</th>\n",
       "      <th>Fare</th>\n",
       "      <th>Alone</th>\n",
       "    </tr>\n",
       "    <tr>\n",
       "      <th>PassengerId</th>\n",
       "      <th></th>\n",
       "      <th></th>\n",
       "      <th></th>\n",
       "      <th></th>\n",
       "      <th></th>\n",
       "      <th></th>\n",
       "    </tr>\n",
       "  </thead>\n",
       "  <tbody>\n",
       "    <tr>\n",
       "      <th>1</th>\n",
       "      <td>0</td>\n",
       "      <td>2</td>\n",
       "      <td>1</td>\n",
       "      <td>1</td>\n",
       "      <td>3</td>\n",
       "      <td>0</td>\n",
       "    </tr>\n",
       "    <tr>\n",
       "      <th>2</th>\n",
       "      <td>1</td>\n",
       "      <td>0</td>\n",
       "      <td>0</td>\n",
       "      <td>2</td>\n",
       "      <td>1</td>\n",
       "      <td>0</td>\n",
       "    </tr>\n",
       "    <tr>\n",
       "      <th>3</th>\n",
       "      <td>1</td>\n",
       "      <td>2</td>\n",
       "      <td>0</td>\n",
       "      <td>1</td>\n",
       "      <td>0</td>\n",
       "      <td>1</td>\n",
       "    </tr>\n",
       "    <tr>\n",
       "      <th>4</th>\n",
       "      <td>1</td>\n",
       "      <td>0</td>\n",
       "      <td>0</td>\n",
       "      <td>1</td>\n",
       "      <td>1</td>\n",
       "      <td>0</td>\n",
       "    </tr>\n",
       "    <tr>\n",
       "      <th>5</th>\n",
       "      <td>0</td>\n",
       "      <td>2</td>\n",
       "      <td>1</td>\n",
       "      <td>1</td>\n",
       "      <td>0</td>\n",
       "      <td>1</td>\n",
       "    </tr>\n",
       "    <tr>\n",
       "      <th>...</th>\n",
       "      <td>...</td>\n",
       "      <td>...</td>\n",
       "      <td>...</td>\n",
       "      <td>...</td>\n",
       "      <td>...</td>\n",
       "      <td>...</td>\n",
       "    </tr>\n",
       "    <tr>\n",
       "      <th>1305</th>\n",
       "      <td>0</td>\n",
       "      <td>2</td>\n",
       "      <td>1</td>\n",
       "      <td>1</td>\n",
       "      <td>0</td>\n",
       "      <td>1</td>\n",
       "    </tr>\n",
       "    <tr>\n",
       "      <th>1306</th>\n",
       "      <td>1</td>\n",
       "      <td>0</td>\n",
       "      <td>0</td>\n",
       "      <td>2</td>\n",
       "      <td>1</td>\n",
       "      <td>1</td>\n",
       "    </tr>\n",
       "    <tr>\n",
       "      <th>1307</th>\n",
       "      <td>0</td>\n",
       "      <td>2</td>\n",
       "      <td>1</td>\n",
       "      <td>2</td>\n",
       "      <td>3</td>\n",
       "      <td>1</td>\n",
       "    </tr>\n",
       "    <tr>\n",
       "      <th>1308</th>\n",
       "      <td>0</td>\n",
       "      <td>2</td>\n",
       "      <td>1</td>\n",
       "      <td>1</td>\n",
       "      <td>0</td>\n",
       "      <td>1</td>\n",
       "    </tr>\n",
       "    <tr>\n",
       "      <th>1309</th>\n",
       "      <td>0</td>\n",
       "      <td>2</td>\n",
       "      <td>1</td>\n",
       "      <td>1</td>\n",
       "      <td>2</td>\n",
       "      <td>0</td>\n",
       "    </tr>\n",
       "  </tbody>\n",
       "</table>\n",
       "<p>1309 rows × 6 columns</p>\n",
       "</div>"
      ],
      "text/plain": [
       "             Survived  Pclass  Sex  Age  Fare  Alone\n",
       "PassengerId                                         \n",
       "1                   0       2    1    1     3      0\n",
       "2                   1       0    0    2     1      0\n",
       "3                   1       2    0    1     0      1\n",
       "4                   1       0    0    1     1      0\n",
       "5                   0       2    1    1     0      1\n",
       "...               ...     ...  ...  ...   ...    ...\n",
       "1305                0       2    1    1     0      1\n",
       "1306                1       0    0    2     1      1\n",
       "1307                0       2    1    2     3      1\n",
       "1308                0       2    1    1     0      1\n",
       "1309                0       2    1    1     2      0\n",
       "\n",
       "[1309 rows x 6 columns]"
      ]
     },
     "execution_count": 285,
     "metadata": {},
     "output_type": "execute_result"
    }
   ],
   "source": [
    "train_df"
   ]
  },
  {
   "cell_type": "code",
   "execution_count": 286,
   "id": "5b8ba6ba-e37e-4e6b-9305-df4029930559",
   "metadata": {},
   "outputs": [],
   "source": [
    "# Train model"
   ]
  },
  {
   "cell_type": "code",
   "execution_count": 287,
   "id": "6f751a3e-4f59-4efc-9703-df5567652ee6",
   "metadata": {},
   "outputs": [],
   "source": [
    "from sklearn.linear_model import LogisticRegression\n",
    "from sklearn.model_selection import GridSearchCV\n",
    "from sklearn.tree import DecisionTreeClassifier\n",
    "from sklearn.ensemble import RandomForestClassifier\n",
    "from sklearn.svm import SVC\n",
    "from sklearn.neural_network import MLPClassifier\n",
    "from sklearn.naive_bayes import GaussianNB\n",
    "from sklearn.ensemble import GradientBoostingClassifier \n",
    "from xgboost import XGBClassifier\n",
    "\n",
    "from sklearn.model_selection import train_test_split\n",
    "from sklearn.preprocessing import MinMaxScaler, StandardScaler\n",
    "\n",
    "from sklearn.metrics import f1_score"
   ]
  },
  {
   "cell_type": "code",
   "execution_count": 288,
   "id": "3e41a2c4-479d-4797-b8f2-7084b4663f30",
   "metadata": {},
   "outputs": [
    {
     "name": "stdout",
     "output_type": "stream",
     "text": [
      "X_train shape: (1047, 5)\n",
      "y train shape: (1047,)\n",
      "X test shape: (262, 5)\n",
      "y test shape: (262,)\n"
     ]
    },
    {
     "data": {
      "text/plain": [
       "(None, None)"
      ]
     },
     "execution_count": 288,
     "metadata": {},
     "output_type": "execute_result"
    }
   ],
   "source": [
    "# train_size=0.6\n",
    "X = train_df.drop(columns=['Survived']).copy()\n",
    "y = train_df['Survived']\n",
    "\n",
    "X_train , X_test, y_train, y_test = train_test_split(X, y, random_state=0, test_size=0.2)\n",
    "# # In the first step we will split the data in training and remaining dataset\n",
    "# X_train, X_, y_train, y_rem = train_test_split(X,y, train_size=0.6)\n",
    "\n",
    "# # Now since we want the valid and test size to be equal (10% each of overall data). \n",
    "# # we have to define valid_size=0.5 (that is 50% of remaining data)\n",
    "# test_size = 0.5\n",
    "# X_valid, X_test, y_valid, y_test = train_test_split(X_rem,y_rem, test_size=0.5)\n",
    "\n",
    "print(f'X_train shape: {X_train.shape}'), print(f'y train shape: {y_train.shape}')\n",
    "# print(f'X valid shape: {X_valid.shape}'), print(f'y valid shape: {y_valid.shape}')\n",
    "print(f'X test shape: {X_test.shape}'), print(f'y test shape: {y_test.shape}')"
   ]
  },
  {
   "cell_type": "code",
   "execution_count": 289,
   "id": "bc5bd3b2-0fd4-4940-a571-30a60d602f97",
   "metadata": {},
   "outputs": [
    {
     "name": "stdout",
     "output_type": "stream",
     "text": [
      "normalizing.\n"
     ]
    },
    {
     "data": {
      "text/plain": [
       "numpy.ndarray"
      ]
     },
     "execution_count": 289,
     "metadata": {},
     "output_type": "execute_result"
    }
   ],
   "source": [
    "def normalize(X_train, X_test):\n",
    "    print ('normalizing.')\n",
    "    scaler= MinMaxScaler()\n",
    "#     scaler = StandardScaler()\n",
    "    X_train_scaled= scaler.fit_transform(X_train)\n",
    "    X_test_scaled = scaler.transform(X_test)\n",
    "    return X_train_scaled, X_test_scaled \n",
    "\n",
    "X_train_scaled, X_test_scaled  = normalize(X_train, X_test)\n",
    "type(X_train_scaled)"
   ]
  },
  {
   "cell_type": "code",
   "execution_count": 290,
   "id": "cc19f2d8-aa72-453f-97ef-8b72cf8ed3d0",
   "metadata": {},
   "outputs": [],
   "source": [
    "def run_GridSearchCV(clf,grid_values, X_train_scaled, X_test_scaled, y_train, y_test= None):\n",
    "    print ('Running GridSearchCV.')\n",
    "    grid_clf = GridSearchCV(clf, param_grid=grid_values,scoring='f1')\n",
    "    grid_clf.fit(X_train_scaled, y_train)\n",
    "    print('Grid best parameter (max f1 ): ', grid_clf.best_params_)\n",
    "    print('Grid best score (f1): ', grid_clf.best_score_)\n",
    "\n",
    "    if not y_test is None:\n",
    "        test_score= grid_clf.score(X_test_scaled, y_test)\n",
    "        print(\"test f1= {}\".format(test_score))\n",
    "\n",
    "\n",
    "def run_all_classifiers(X_train_scaled, X_test_scaled, y_train, y_test=None, list_classifiers= None):\n",
    "    if list_classifiers is None or 'LogisticRegression' in list_classifiers:\n",
    "        print ('\\nLogisticRegression.')\n",
    "        clf = LogisticRegression(max_iter=10000)\n",
    "        grid_values = {'C': [0.005, 0.01,0.1, 1, 100, 10000, 100000]}\n",
    "        run_GridSearchCV(clf,grid_values, X_train_scaled,X_test_scaled,  y_train,  y_test= y_test)\n",
    "\n",
    "    if list_classifiers is None or 'DecisionTreeClassifier' in list_classifiers:\n",
    "        print ('\\nDecisionTreeClassifier')\n",
    "        clf = DecisionTreeClassifier()       \n",
    "        grid_values = {'max_depth': [2,5,7, 20, 50]}\n",
    "        run_GridSearchCV(clf,grid_values, X_train_scaled, X_test_scaled, y_train,  y_test= y_test)   \n",
    "\n",
    "    if list_classifiers is None or 'RandomForestClassifier' in list_classifiers:\n",
    "        print ('\\nRandomForestClassifier.')\n",
    "        clf = RandomForestClassifier()       \n",
    "        grid_values = {'n_estimators': [20,50, 200, 300]} #,200,300]}\n",
    "        run_GridSearchCV(clf,grid_values, X_train_scaled,X_test_scaled, y_train,  y_test= y_test)   \n",
    "\n",
    "    if list_classifiers is None or 'SVC_poly' in list_classifiers:\n",
    "        print ('\\nSVC_poly')\n",
    "        clf = SVC(kernel='poly')           \n",
    "        grid_values = {'C': [0.01]}# , 0.1, 1, 100, ]}\n",
    "        run_GridSearchCV(clf,grid_values, X_train_scaled, X_test_scaled, y_train,  y_test= y_test)   \n",
    "\n",
    "    if list_classifiers is None or 'SVC_rbf' in list_classifiers:\n",
    "        print ('\\nSVC_rbf')\n",
    "        clf = SVC(kernel='rbf')\n",
    "        grid_values = {'C': [0.005, 0.01]}# , 0.02, 0.03, 0.1, 1, 100, 10000], 'gamma':[0.001, 0.01, 0.1]}\n",
    "        run_GridSearchCV(clf,grid_values, X_train_scaled, X_test_scaled, y_train,  y_test= y_test)   \n",
    "\n",
    "    if list_classifiers is None or 'NB' in list_classifiers:\n",
    "        print ('\\nNB')\n",
    "        clf =  GaussianNB().fit(X_train_scaled, y_train)\n",
    "        train_f1 = f1_score(y_train, clf.predict(X_train_scaled))\n",
    "        print(\"train set f1= {}\".format(train_f1))\n",
    "        if not y_test is None:\n",
    "            test_f1 = f1_score(y_test, clf.predict(X_test_scaled))\n",
    "            print(\"train set f1= {}\".format(test_f1))\n",
    "\n",
    "            \n",
    "    if list_classifiers is None or 'GradientBoostingClassifier' in list_classifiers:\n",
    "        print ('\\nGradientBoostingClassifier.')\n",
    "        clf = GradientBoostingClassifier() # learning_rate = 0.03)       \n",
    "        grid_values = {'max_depth': [3,5,7]}\n",
    "        run_GridSearchCV(clf,grid_values, X_train_scaled,X_test_scaled, y_train,  y_test= y_test)   \n",
    "\n",
    "    if list_classifiers is None or 'MLP' in list_classifiers:\n",
    "        print ('\\nMLP.')\n",
    "        clf = MLPClassifier(hidden_layer_sizes = [50]) #, 100])\n",
    "        grid_values = {'alpha' : [0.001, 0.01, 0.1, 1, 10]}\n",
    "        run_GridSearchCV(clf,grid_values, X_train_scaled,X_test_scaled, y_train,  y_test= y_test)   \n",
    "\n",
    "    if list_classifiers is None or 'xgboost' in list_classifiers:\n",
    "        print ('\\nxgboost.')\n",
    "        clf = XGBClassifier().fit(X_train_scaled, y_train)\n",
    "        y_predicted = clf.predict(X_test_scaled)\n",
    "        print ('f1_score  = {:.2}'.format(f1_score(y_test, y_predicted)))"
   ]
  },
  {
   "cell_type": "code",
   "execution_count": 291,
   "id": "2abe747b-bc9a-4cf3-8f15-dd407bf20101",
   "metadata": {},
   "outputs": [
    {
     "name": "stdout",
     "output_type": "stream",
     "text": [
      "X_train_scaled shape= (1047, 5)\n",
      "X_test_scaled shape= (262, 5)\n",
      "y_train set shape= (1047,)\n",
      "y_test set shape= (262,)\n"
     ]
    }
   ],
   "source": [
    "print ('X_train_scaled shape= {}\\nX_test_scaled shape= {}'.format(X_train_scaled.shape, X_test_scaled.shape))\n",
    "print ('y_train set shape= {}\\ny_test set shape= {}'.format(y_train.shape, y_test.shape))"
   ]
  },
  {
   "cell_type": "code",
   "execution_count": 292,
   "id": "a6698b76-fe8e-4237-8e16-7b81c1b4dc40",
   "metadata": {},
   "outputs": [
    {
     "data": {
      "text/plain": [
       "Survived    False\n",
       "Pclass      False\n",
       "Sex         False\n",
       "Age         False\n",
       "Fare        False\n",
       "Alone       False\n",
       "dtype: bool"
      ]
     },
     "execution_count": 292,
     "metadata": {},
     "output_type": "execute_result"
    }
   ],
   "source": [
    "# X_train.isna().any()\n",
    "train_df.isna().any()"
   ]
  },
  {
   "cell_type": "code",
   "execution_count": 293,
   "id": "07d54b39-7860-4314-a757-525b32a55a8d",
   "metadata": {},
   "outputs": [
    {
     "name": "stdout",
     "output_type": "stream",
     "text": [
      "\n",
      "LogisticRegression.\n",
      "Running GridSearchCV.\n",
      "Grid best parameter (max f1 ):  {'C': 0.1}\n",
      "Grid best score (f1):  0.7855338410817863\n",
      "test f1= 0.8523206751054853\n",
      "\n",
      "DecisionTreeClassifier\n",
      "Running GridSearchCV.\n",
      "Grid best parameter (max f1 ):  {'max_depth': 2}\n",
      "Grid best score (f1):  0.7855338410817863\n",
      "test f1= 0.8523206751054853\n",
      "\n",
      "RandomForestClassifier.\n",
      "Running GridSearchCV.\n",
      "Grid best parameter (max f1 ):  {'n_estimators': 200}\n",
      "Grid best score (f1):  0.7856714863811559\n",
      "test f1= 0.8546255506607928\n",
      "\n",
      "NB\n",
      "train set f1= 0.7856154910096819\n",
      "train set f1= 0.8523206751054853\n",
      "\n",
      "GradientBoostingClassifier.\n",
      "Running GridSearchCV.\n",
      "Grid best parameter (max f1 ):  {'max_depth': 5}\n",
      "Grid best score (f1):  0.7822179950103105\n",
      "test f1= 0.8484848484848485\n",
      "\n",
      "xgboost.\n",
      "[16:27:57] WARNING: ../src/learner.cc:1095: Starting in XGBoost 1.3.0, the default evaluation metric used with the objective 'binary:logistic' was changed from 'error' to 'logloss'. Explicitly set eval_metric if you'd like to restore the old behavior.\n",
      "f1_score  = 0.84\n"
     ]
    },
    {
     "name": "stderr",
     "output_type": "stream",
     "text": [
      "/home/ost/anaconda3/envs/ds_env/lib/python3.9/site-packages/xgboost/sklearn.py:1146: UserWarning: The use of label encoder in XGBClassifier is deprecated and will be removed in a future release. To remove this warning, do the following: 1) Pass option use_label_encoder=False when constructing XGBClassifier object; and 2) Encode your labels (y) as integers starting with 0, i.e. 0, 1, 2, ..., [num_class - 1].\n",
      "  warnings.warn(label_encoder_deprecation_msg, UserWarning)\n",
      "/home/ost/anaconda3/envs/ds_env/lib/python3.9/site-packages/xgboost/data.py:112: UserWarning: Use subset (sliced data) of np.ndarray is not recommended because it will generate extra copies and increase memory consumption\n",
      "  warnings.warn(\n"
     ]
    }
   ],
   "source": [
    "list_classifiers= [\n",
    "    'LogisticRegression',\n",
    "    'DecisionTreeClassifier',\n",
    "    'RandomForestClassifier',\n",
    "    'NB',\n",
    "    'GradientBoostingClassifier', \n",
    "#     'MLP', \n",
    "    'xgboost', \n",
    "    \n",
    "    \n",
    "   \n",
    "]\n",
    "run_all_classifiers(X_train_scaled, X_test_scaled, y_train, y_test, list_classifiers= list_classifiers)"
   ]
  },
  {
   "cell_type": "code",
   "execution_count": 294,
   "id": "99818e0c-18a5-4910-83fb-3ba75b8255a1",
   "metadata": {},
   "outputs": [
    {
     "name": "stdout",
     "output_type": "stream",
     "text": [
      "0.7855338410817863\n"
     ]
    },
    {
     "data": {
      "text/plain": [
       "0.4618320610687023"
      ]
     },
     "execution_count": 294,
     "metadata": {},
     "output_type": "execute_result"
    }
   ],
   "source": [
    "# clf = RandomForestClassifier(n_estimators= 200)\n",
    "clf = DecisionTreeClassifier(max_depth=2)\n",
    "\n",
    "# review perfromance on whole set\n",
    "from sklearn.model_selection import cross_val_score # need to manually determine the best param \n",
    "f1_train = cross_val_score(clf, X_train_scaled, y_train, cv=5, scoring='f1')\n",
    "print (f1_train.mean())\n",
    "            \n",
    "# train and predict X_test\n",
    "clf.fit(X_train_scaled, y_train)\n",
    "y_predict= clf.predict(X_test_scaled)\n",
    "\n",
    "# make sure it produce not all zeros \n",
    "np.mean(y_predict)"
   ]
  },
  {
   "cell_type": "code",
   "execution_count": null,
   "id": "072364db-1122-4079-be7f-d4f0edc2afec",
   "metadata": {},
   "outputs": [],
   "source": []
  }
 ],
 "metadata": {
  "kernelspec": {
   "display_name": "Python 3",
   "language": "python",
   "name": "python3"
  },
  "language_info": {
   "codemirror_mode": {
    "name": "ipython",
    "version": 3
   },
   "file_extension": ".py",
   "mimetype": "text/x-python",
   "name": "python",
   "nbconvert_exporter": "python",
   "pygments_lexer": "ipython3",
   "version": "3.9.5"
  }
 },
 "nbformat": 4,
 "nbformat_minor": 5
}
