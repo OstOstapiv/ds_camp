{
 "cells": [
  {
   "cell_type": "markdown",
   "metadata": {},
   "source": [
    "<font color = green >\n",
    "\n",
    "# Decision Trees\n",
    "</font>"
   ]
  },
  {
   "cell_type": "code",
   "execution_count": 1,
   "metadata": {},
   "outputs": [],
   "source": [
    "import numpy as np\n",
    "from sklearn.tree import DecisionTreeClassifier\n",
    "from sklearn.ensemble import RandomForestClassifier\n",
    "from sklearn.ensemble import GradientBoostingClassifier\n",
    "from xgboost import XGBClassifier\n",
    "from sklearn import tree\n",
    "import graphviz\n",
    "from sklearn.model_selection import train_test_split"
   ]
  },
  {
   "cell_type": "code",
   "execution_count": 2,
   "metadata": {},
   "outputs": [
    {
     "name": "stdout",
     "output_type": "stream",
     "text": [
      "labels: ['malignant' 'benign']\n",
      "features: ['mean radius' 'mean texture' 'mean perimeter' 'mean area'\n",
      " 'mean smoothness' 'mean compactness' 'mean concavity'\n",
      " 'mean concave points' 'mean symmetry' 'mean fractal dimension'\n",
      " 'radius error' 'texture error' 'perimeter error' 'area error'\n",
      " 'smoothness error' 'compactness error' 'concavity error'\n",
      " 'concave points error' 'symmetry error' 'fractal dimension error'\n",
      " 'worst radius' 'worst texture' 'worst perimeter' 'worst area'\n",
      " 'worst smoothness' 'worst compactness' 'worst concavity'\n",
      " 'worst concave points' 'worst symmetry' 'worst fractal dimension']\n"
     ]
    }
   ],
   "source": [
    "from sklearn.datasets import load_breast_cancer\n",
    "cancer = load_breast_cancer()\n",
    "X, y, labels, features = cancer.data, cancer.target, cancer.target_names, cancer.feature_names\n",
    "print ('labels:',labels)\n",
    "print ('features:', features)\n",
    "\n",
    "X_train, X_test, y_train, y_test = train_test_split(X, y, random_state = 0)"
   ]
  },
  {
   "cell_type": "markdown",
   "metadata": {},
   "source": [
    "<font color = green>\n",
    "\n",
    "##  DecisionTree \n",
    "\n",
    "</font>\n",
    "\n"
   ]
  },
  {
   "cell_type": "code",
   "execution_count": 10,
   "metadata": {},
   "outputs": [
    {
     "name": "stdout",
     "output_type": "stream",
     "text": [
      "Depth = 1\n",
      "Train accuracy= 92.254%\n",
      "Test accuracy= 88.112%\n",
      "---------------\n",
      "Depth = 3\n",
      "Train accuracy= 97.653%\n",
      "Test accuracy= 95.105%\n",
      "---------------\n",
      "Depth = 5\n",
      "Train accuracy= 99.296%\n",
      "Test accuracy= 96.503%\n",
      "---------------\n",
      "Depth = 7\n",
      "Train accuracy= 100.000%\n",
      "Test accuracy= 95.105%\n",
      "---------------\n",
      "Depth = 9\n",
      "Train accuracy= 100.000%\n",
      "Test accuracy= 95.105%\n",
      "---------------\n",
      "\n",
      "Result:\n",
      "Best depth parameter = 5\n",
      "Train accuracy= 99.296%\n",
      "Test accuracy= 96.503%\n"
     ]
    }
   ],
   "source": [
    "# YOUR_CODE.  create the classifier and train it \n",
    "# START_CODE\n",
    "best_score = 0\n",
    "for depth in np.arange(1,11,2):\n",
    "    clf = DecisionTreeClassifier(\n",
    "        criterion='entropy',\n",
    "        random_state=10,        \n",
    "        max_depth=depth,    \n",
    "    ).fit(X_train, y_train)\n",
    "    if clf.score(X_test, y_test) > best_score:\n",
    "        best_score = clf.score(X_test, y_test)\n",
    "        best_depth = depth\n",
    "        train_accuracy = clf.score(X_train, y_train)\n",
    "    print(f'Depth = {depth}')\n",
    "    print(\"Train accuracy= {:.3%}\".format(clf.score(X_train, y_train)))\n",
    "    print(\"Test accuracy= {:.3%}\".format(clf.score(X_test, y_test)))\n",
    "    print('---------------')\n",
    "# END_CODE \n",
    "\n",
    "print('\\nResult:')\n",
    "print('Best depth parameter = {}'.format(best_depth))\n",
    "print(\"Train accuracy= {:.3%}\".format(train_accuracy))\n",
    "print(\"Test accuracy= {:.3%}\".format(best_score))\n",
    "# graph_viz = tree.export_graphviz(clf, out_file=None,feature_names=features, class_names=labels, filled = True)\n",
    "# graph = graphviz.Source(graph_viz)\n",
    "# graph.view(cleanup =True) # cleanup (bool) – Delete the source file after rendering."
   ]
  },
  {
   "cell_type": "markdown",
   "metadata": {},
   "source": [
    "<font color = green>\n",
    "\n",
    "##  RandomForest\n",
    "\n",
    "</font>\n",
    "\n"
   ]
  },
  {
   "cell_type": "code",
   "execution_count": 11,
   "metadata": {},
   "outputs": [
    {
     "name": "stdout",
     "output_type": "stream",
     "text": [
      "The best result with parameters:\n",
      "n_estimator = 8, max_features = 5\n",
      "Train accuracy = 99.531%\n",
      "Test accuracy = 98.601%\n"
     ]
    }
   ],
   "source": [
    "# YOUR_CODE.  create the classifier and train it \n",
    "# START_CODE\n",
    "best_test_score = 0\n",
    "for i in np.arange(1,11):   \n",
    "    for j in np.arange(2,11,2): \n",
    "        clf = RandomForestClassifier(\n",
    "            random_state=10,\n",
    "            n_estimators=j,\n",
    "            max_features=i,\n",
    "        ).fit(X_train, y_train)\n",
    "        if clf.score(X_test, y_test) > best_test_score:\n",
    "            best_train_score = clf.score(X_train, y_train)\n",
    "            best_test_score = clf.score(X_test, y_test)\n",
    "            best_n_estimator = j\n",
    "            best_max_features = i\n",
    "\n",
    "print('The best result with parameters:')\n",
    "print(f'n_estimator = {best_n_estimator}, max_features = {best_max_features}')\n",
    "print('Train accuracy = {:.3%}'.format(best_train_score))\n",
    "print('Test accuracy = {:.3%}'.format(best_test_score))"
   ]
  },
  {
   "cell_type": "markdown",
   "metadata": {},
   "source": [
    "<font color = green>\n",
    "\n",
    "##  Gradient Boosting Decision Trees (GBDT)\n",
    "\n",
    "</font>\n",
    "\n"
   ]
  },
  {
   "cell_type": "code",
   "execution_count": 12,
   "metadata": {},
   "outputs": [
    {
     "name": "stdout",
     "output_type": "stream",
     "text": [
      "The best result with parameters:\n",
      "lerning_rate = 0.060000000000000005, max_depth = 2\n",
      "train accuracy= 99.765%\n",
      "test accuracy= 97.203%\n"
     ]
    }
   ],
   "source": [
    "# YOUR_CODE.  create the classifier and train it \n",
    "# START_CODE\n",
    "test_score = 0\n",
    "for learn_rate in np.arange(0.01, 0.1, 0.01):\n",
    "    for depth in np.arange(1,11):  \n",
    "        clf = GradientBoostingClassifier(\n",
    "            learning_rate=learn_rate,\n",
    "            max_depth=depth\n",
    "        ).fit(X_train, y_train)\n",
    "        if clf.score(X_test, y_test) > test_score:\n",
    "            train_score = clf.score(X_train, y_train)\n",
    "            test_score = clf.score(X_test, y_test)\n",
    "            learning_rate = learn_rate\n",
    "            best_depth = depth\n",
    "            best_clf = clf\n",
    "        \n",
    "# END_CODE \n",
    "print('The best result with parameters:')\n",
    "print(f'lerning_rate = {learning_rate}, max_depth = {best_depth}')\n",
    "print(\"train accuracy= {:.3%}\".format(train_score))\n",
    "print(\"test accuracy= {:.3%}\".format(test_score))"
   ]
  },
  {
   "cell_type": "markdown",
   "metadata": {},
   "source": [
    "<font color = green>\n",
    "\n",
    "##  XGBoost\n",
    "\n",
    "</font>\n",
    "\n"
   ]
  },
  {
   "cell_type": "code",
   "execution_count": 13,
   "metadata": {},
   "outputs": [
    {
     "name": "stdout",
     "output_type": "stream",
     "text": [
      "train accuracy= 100.000%\n",
      "test accuracy= 98.601%\n"
     ]
    }
   ],
   "source": [
    "# YOUR_CODE.  create the classifier and train it \n",
    "# START_CODE \n",
    "clf = XGBClassifier(use_label_encoder=False, eval_metric= 'logloss')\n",
    "clf.fit(X_train, y_train)\n",
    "# END_CODE \n",
    "\n",
    "print(\"train accuracy= {:.3%}\".format(clf.score (X_train, y_train)))\n",
    "print(\"test accuracy= {:.3%}\".format(clf.score (X_test, y_test)))"
   ]
  }
 ],
 "metadata": {
  "kernelspec": {
   "display_name": "Python 3",
   "language": "python",
   "name": "python3"
  },
  "language_info": {
   "codemirror_mode": {
    "name": "ipython",
    "version": 3
   },
   "file_extension": ".py",
   "mimetype": "text/x-python",
   "name": "python",
   "nbconvert_exporter": "python",
   "pygments_lexer": "ipython3",
   "version": "3.9.5"
  }
 },
 "nbformat": 4,
 "nbformat_minor": 4
}
