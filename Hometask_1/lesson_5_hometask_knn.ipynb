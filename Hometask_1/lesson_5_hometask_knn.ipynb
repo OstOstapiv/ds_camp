{
 "cells": [
  {
   "cell_type": "markdown",
   "metadata": {},
   "source": [
    "# Home task : KNN classification\n",
    "1. `iris` dataset\n",
    "    - load `iris` dataset\n",
    "    - split to train and test\n",
    "    - train KNN classifiers for different `K`\n",
    "    - choose the best `K` determined on test set\n",
    "\n",
    "2. synthetic dataset\n",
    "    - generrate synthetic dataset\n",
    "    - split to train and test\n",
    "    - train KNN regressors for different `K`\n",
    "    - choose the best `K` determined on test set\n",
    "    - visualize the decision boundary \n",
    "\n",
    "\n"
   ]
  },
  {
   "cell_type": "markdown",
   "metadata": {},
   "source": [
    "## `Iris` dataset "
   ]
  },
  {
   "cell_type": "code",
   "execution_count": 24,
   "metadata": {},
   "outputs": [
    {
     "name": "stdout",
     "output_type": "stream",
     "text": [
      "data contains: dict_keys(['data', 'target', 'frame', 'target_names', 'DESCR', 'feature_names', 'filename'])\n"
     ]
    },
    {
     "data": {
      "text/html": [
       "<div>\n",
       "<style scoped>\n",
       "    .dataframe tbody tr th:only-of-type {\n",
       "        vertical-align: middle;\n",
       "    }\n",
       "\n",
       "    .dataframe tbody tr th {\n",
       "        vertical-align: top;\n",
       "    }\n",
       "\n",
       "    .dataframe thead th {\n",
       "        text-align: right;\n",
       "    }\n",
       "</style>\n",
       "<table border=\"1\" class=\"dataframe\">\n",
       "  <thead>\n",
       "    <tr style=\"text-align: right;\">\n",
       "      <th></th>\n",
       "      <th>sepal length (cm)</th>\n",
       "      <th>sepal width (cm)</th>\n",
       "      <th>petal length (cm)</th>\n",
       "      <th>petal width (cm)</th>\n",
       "      <th>label</th>\n",
       "      <th>label_names</th>\n",
       "    </tr>\n",
       "  </thead>\n",
       "  <tbody>\n",
       "    <tr>\n",
       "      <th>0</th>\n",
       "      <td>5.1</td>\n",
       "      <td>3.5</td>\n",
       "      <td>1.4</td>\n",
       "      <td>0.2</td>\n",
       "      <td>0</td>\n",
       "      <td>setosa</td>\n",
       "    </tr>\n",
       "    <tr>\n",
       "      <th>1</th>\n",
       "      <td>4.9</td>\n",
       "      <td>3.0</td>\n",
       "      <td>1.4</td>\n",
       "      <td>0.2</td>\n",
       "      <td>0</td>\n",
       "      <td>setosa</td>\n",
       "    </tr>\n",
       "    <tr>\n",
       "      <th>2</th>\n",
       "      <td>4.7</td>\n",
       "      <td>3.2</td>\n",
       "      <td>1.3</td>\n",
       "      <td>0.2</td>\n",
       "      <td>0</td>\n",
       "      <td>setosa</td>\n",
       "    </tr>\n",
       "    <tr>\n",
       "      <th>3</th>\n",
       "      <td>4.6</td>\n",
       "      <td>3.1</td>\n",
       "      <td>1.5</td>\n",
       "      <td>0.2</td>\n",
       "      <td>0</td>\n",
       "      <td>setosa</td>\n",
       "    </tr>\n",
       "    <tr>\n",
       "      <th>4</th>\n",
       "      <td>5.0</td>\n",
       "      <td>3.6</td>\n",
       "      <td>1.4</td>\n",
       "      <td>0.2</td>\n",
       "      <td>0</td>\n",
       "      <td>setosa</td>\n",
       "    </tr>\n",
       "    <tr>\n",
       "      <th>...</th>\n",
       "      <td>...</td>\n",
       "      <td>...</td>\n",
       "      <td>...</td>\n",
       "      <td>...</td>\n",
       "      <td>...</td>\n",
       "      <td>...</td>\n",
       "    </tr>\n",
       "    <tr>\n",
       "      <th>145</th>\n",
       "      <td>6.7</td>\n",
       "      <td>3.0</td>\n",
       "      <td>5.2</td>\n",
       "      <td>2.3</td>\n",
       "      <td>2</td>\n",
       "      <td>virginica</td>\n",
       "    </tr>\n",
       "    <tr>\n",
       "      <th>146</th>\n",
       "      <td>6.3</td>\n",
       "      <td>2.5</td>\n",
       "      <td>5.0</td>\n",
       "      <td>1.9</td>\n",
       "      <td>2</td>\n",
       "      <td>virginica</td>\n",
       "    </tr>\n",
       "    <tr>\n",
       "      <th>147</th>\n",
       "      <td>6.5</td>\n",
       "      <td>3.0</td>\n",
       "      <td>5.2</td>\n",
       "      <td>2.0</td>\n",
       "      <td>2</td>\n",
       "      <td>virginica</td>\n",
       "    </tr>\n",
       "    <tr>\n",
       "      <th>148</th>\n",
       "      <td>6.2</td>\n",
       "      <td>3.4</td>\n",
       "      <td>5.4</td>\n",
       "      <td>2.3</td>\n",
       "      <td>2</td>\n",
       "      <td>virginica</td>\n",
       "    </tr>\n",
       "    <tr>\n",
       "      <th>149</th>\n",
       "      <td>5.9</td>\n",
       "      <td>3.0</td>\n",
       "      <td>5.1</td>\n",
       "      <td>1.8</td>\n",
       "      <td>2</td>\n",
       "      <td>virginica</td>\n",
       "    </tr>\n",
       "  </tbody>\n",
       "</table>\n",
       "<p>150 rows × 6 columns</p>\n",
       "</div>"
      ],
      "text/plain": [
       "     sepal length (cm)  sepal width (cm)  petal length (cm)  petal width (cm)  \\\n",
       "0                  5.1               3.5                1.4               0.2   \n",
       "1                  4.9               3.0                1.4               0.2   \n",
       "2                  4.7               3.2                1.3               0.2   \n",
       "3                  4.6               3.1                1.5               0.2   \n",
       "4                  5.0               3.6                1.4               0.2   \n",
       "..                 ...               ...                ...               ...   \n",
       "145                6.7               3.0                5.2               2.3   \n",
       "146                6.3               2.5                5.0               1.9   \n",
       "147                6.5               3.0                5.2               2.0   \n",
       "148                6.2               3.4                5.4               2.3   \n",
       "149                5.9               3.0                5.1               1.8   \n",
       "\n",
       "     label label_names  \n",
       "0        0      setosa  \n",
       "1        0      setosa  \n",
       "2        0      setosa  \n",
       "3        0      setosa  \n",
       "4        0      setosa  \n",
       "..     ...         ...  \n",
       "145      2   virginica  \n",
       "146      2   virginica  \n",
       "147      2   virginica  \n",
       "148      2   virginica  \n",
       "149      2   virginica  \n",
       "\n",
       "[150 rows x 6 columns]"
      ]
     },
     "execution_count": 24,
     "metadata": {},
     "output_type": "execute_result"
    }
   ],
   "source": [
    "from sklearn.datasets import load_iris\n",
    "from sklearn.neighbors import KNeighborsClassifier\n",
    "from sklearn.model_selection import train_test_split\n",
    "from sklearn.preprocessing import StandardScaler\n",
    "import pandas as pd\n",
    "import numpy as np\n",
    "\n",
    "np.random.seed = 2021\n",
    "from sklearn.datasets import load_iris\n",
    "iris = load_iris()\n",
    "print ('data contains:',iris.keys())\n",
    "X, y, labels, feature_names  = iris.data, iris.target, iris.target_names, iris['feature_names']\n",
    "df_iris= pd.DataFrame(X, columns= feature_names) \n",
    "df_iris['label'] =  y\n",
    "features_dict = {k:v for k,v in  enumerate(labels)}\n",
    "df_iris['label_names'] = df_iris.label.apply(lambda x: features_dict[x])\n",
    "df_iris"
   ]
  },
  {
   "cell_type": "code",
   "execution_count": 25,
   "metadata": {},
   "outputs": [],
   "source": [
    "X_train, X_test, y_train, y_test = train_test_split(X, y, random_state=0)"
   ]
  },
  {
   "cell_type": "code",
   "execution_count": 26,
   "metadata": {},
   "outputs": [],
   "source": [
    "score_best = 0\n",
    "k_best = 0\n",
    "result_dict = {}\n",
    "for i in np.arange(1,25):    \n",
    "    knn = KNeighborsClassifier(n_neighbors = i).fit(X_train, y_train)\n",
    "    result_dict[f'k = {i}'] = f'score = {knn.score(X_test, y_test).round(3)}'\n",
    "    \n",
    "scaler = StandardScaler()\n",
    "X_train_scaled= scaler.fit_transform(X_train)\n",
    "X_test_scaled= scaler.transform(X_test)\n",
    "\n",
    "for i in np.arange(1, 25):\n",
    "    knn = KNeighborsClassifier(n_neighbors = i)\n",
    "    knn.fit(X_train_scaled, y_train)\n",
    "    if score_best < knn.score(X_test_scaled, y_test):\n",
    "        score_best = knn.score(X_test_scaled, y_test)\n",
    "        k_best = i\n",
    "    result_dict[f'k = {i}'] = knn.score(X_test_scaled, y_test).round(3)"
   ]
  },
  {
   "cell_type": "code",
   "execution_count": 27,
   "metadata": {},
   "outputs": [
    {
     "name": "stdout",
     "output_type": "stream",
     "text": [
      "The best k = 3 , score = 0.9736842105263158\n",
      "\n",
      " {'k = 1': 0.921, 'k = 2': 0.947, 'k = 3': 0.974, 'k = 4': 0.974, 'k = 5': 0.974, 'k = 6': 0.974, 'k = 7': 0.974, 'k = 8': 0.974, 'k = 9': 0.974, 'k = 10': 0.974, 'k = 11': 0.974, 'k = 12': 0.974, 'k = 13': 0.974, 'k = 14': 0.974, 'k = 15': 0.974, 'k = 16': 0.974, 'k = 17': 0.974, 'k = 18': 0.974, 'k = 19': 0.921, 'k = 20': 0.947, 'k = 21': 0.947, 'k = 22': 0.947, 'k = 23': 0.921, 'k = 24': 0.947}\n"
     ]
    }
   ],
   "source": [
    "print ('The best k = {} , score = {}'.format(k_best,score_best ))\n",
    "print('\\n',result_dict)"
   ]
  },
  {
   "cell_type": "markdown",
   "metadata": {},
   "source": [
    "## Synthetic dataset  "
   ]
  },
  {
   "cell_type": "code",
   "execution_count": 28,
   "metadata": {},
   "outputs": [
    {
     "data": {
      "text/plain": [
       "<matplotlib.collections.PathCollection at 0x7f4f943008b0>"
      ]
     },
     "execution_count": 28,
     "metadata": {},
     "output_type": "execute_result"
    },
    {
     "data": {
      "image/png": "[encoded data removed]",
      "text/plain": [
       "<Figure size 432x288 with 1 Axes>"
      ]
     },
     "metadata": {
      "needs_background": "light"
     },
     "output_type": "display_data"
    }
   ],
   "source": [
    "%matplotlib inline\n",
    "import matplotlib.pyplot as plt\n",
    "from sklearn.datasets import make_blobs\n",
    "from matplotlib.colors import ListedColormap\n",
    "from sklearn.preprocessing import MinMaxScaler\n",
    "\n",
    "cmap_bold = ListedColormap(['blue','#FFFF00','black','green'])\n",
    "\n",
    "cmap_bold = ListedColormap(['blue','#FFFF00','black','green'])\n",
    "\n",
    "np.random.seed= 2021\n",
    "X_D2, y_D2 = make_blobs(n_samples = 300, n_features = 2, centers = 8,\n",
    "                       cluster_std = 1.3, random_state = 4)\n",
    "y_D2 = y_D2 % 2\n",
    "plt.figure()\n",
    "plt.title('Sample binary classification problem with non-linearly separable classes')\n",
    "plt.scatter(X_D2[:,0], X_D2[:,1], c=y_D2,\n",
    "           marker= 'o', s=30, cmap=cmap_bold)"
   ]
  },
  {
   "cell_type": "code",
   "execution_count": 29,
   "metadata": {},
   "outputs": [],
   "source": [
    "X_train, X_test, y_train, y_test = train_test_split(X_D2, y_D2, random_state=0)"
   ]
  },
  {
   "cell_type": "code",
   "execution_count": 30,
   "metadata": {},
   "outputs": [],
   "source": [
    "res = {}\n",
    "arr = np.array([])\n",
    "for i in np.arange(1,25):    \n",
    "    knn = KNeighborsClassifier(n_neighbors = i).fit(X_train, y_train)\n",
    "    res[f'k = {i}'] = f'score = {knn.score(X_test, y_test).round(3)}'"
   ]
  },
  {
   "cell_type": "code",
   "execution_count": 31,
   "metadata": {},
   "outputs": [],
   "source": [
    "scaler= MinMaxScaler()\n",
    "X_train_scaled= scaler.fit_transform(X_train)\n",
    "X_test_scaled = scaler.transform(X_test)\n",
    "\n",
    "for i in np.arange(1,30): \n",
    "    knn = KNeighborsClassifier(n_neighbors = i).fit(X_train_scaled, y_train)\n",
    "    arr = np.append(arr, knn.score(X_test_scaled, y_test).round(3))\n",
    "    res[f'k = {i}'] = knn.score(X_test_scaled, y_test).round(3)"
   ]
  },
  {
   "cell_type": "code",
   "execution_count": 32,
   "metadata": {},
   "outputs": [
    {
     "data": {
      "text/plain": [
       "[[18, 0.947], [25, 0.947], [26, 0.947]]"
      ]
     },
     "execution_count": 32,
     "metadata": {},
     "output_type": "execute_result"
    }
   ],
   "source": [
    "k = [[i+1, arr[i]] for i in range(len(arr)) if arr.max() == arr[i]]\n",
    "k"
   ]
  },
  {
   "cell_type": "code",
   "execution_count": 33,
   "metadata": {},
   "outputs": [
    {
     "name": "stdout",
     "output_type": "stream",
     "text": [
      "The best k = 18 , score = 0.947\n"
     ]
    },
    {
     "data": {
      "text/plain": [
       "{'k = 1': 0.933,\n",
       " 'k = 2': 0.893,\n",
       " 'k = 3': 0.893,\n",
       " 'k = 4': 0.88,\n",
       " 'k = 5': 0.907,\n",
       " 'k = 6': 0.88,\n",
       " 'k = 7': 0.933,\n",
       " 'k = 8': 0.907,\n",
       " 'k = 9': 0.92,\n",
       " 'k = 10': 0.92,\n",
       " 'k = 11': 0.907,\n",
       " 'k = 12': 0.893,\n",
       " 'k = 13': 0.893,\n",
       " 'k = 14': 0.92,\n",
       " 'k = 15': 0.893,\n",
       " 'k = 16': 0.92,\n",
       " 'k = 17': 0.933,\n",
       " 'k = 18': 0.947,\n",
       " 'k = 19': 0.933,\n",
       " 'k = 20': 0.933,\n",
       " 'k = 21': 0.933,\n",
       " 'k = 22': 0.92,\n",
       " 'k = 23': 0.92,\n",
       " 'k = 24': 0.92,\n",
       " 'k = 25': 0.947,\n",
       " 'k = 26': 0.947,\n",
       " 'k = 27': 0.933,\n",
       " 'k = 28': 0.92,\n",
       " 'k = 29': 0.92}"
      ]
     },
     "execution_count": 33,
     "metadata": {},
     "output_type": "execute_result"
    }
   ],
   "source": [
    "k_best = k[0][0] # 'compute the best k'\n",
    "score_best = k[0][1] #'compute the best score'\n",
    "print ('The best k = {} , score = {}'.format(k_best,score_best ))\n",
    "res"
   ]
  },
  {
   "cell_type": "code",
   "execution_count": null,
   "metadata": {},
   "outputs": [],
   "source": []
  }
 ],
 "metadata": {
  "anaconda-cloud": {},
  "kernelspec": {
   "display_name": "Python 3",
   "language": "python",
   "name": "python3"
  },
  "language_info": {
   "codemirror_mode": {
    "name": "ipython",
    "version": 3
   },
   "file_extension": ".py",
   "mimetype": "text/x-python",
   "name": "python",
   "nbconvert_exporter": "python",
   "pygments_lexer": "ipython3",
   "version": "3.9.5"
  }
 },
 "nbformat": 4,
 "nbformat_minor": 4
}
