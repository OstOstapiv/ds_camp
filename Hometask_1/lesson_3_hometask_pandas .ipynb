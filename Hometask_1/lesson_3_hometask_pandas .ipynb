{
 "cells": [
  {
   "cell_type": "markdown",
   "metadata": {},
   "source": [
    "### Home task: pandas \n",
    "\n",
    "## Question 1\n",
    "\n",
    "- Load the energy data from the file [Energy Indicators.xls](http://unstats.un.org/unsd/environment/excel_file_tables/2013/Energy%20Indicators.xls).\n",
    "It is a list of indicators of energy supply and renewable electricity production from the United Nations for the year 2013.\n",
    "\n",
    "\n",
    "- It should be put into a DataFrame with the variable name of \"energy\"\n",
    "\n",
    "\n",
    "- Make sure to exclude the footer and header information from the datafile.\n",
    "\n",
    "\n",
    "- The first two columns are unneccessary, so you should get rid of them, and you should change the column labels so that the columns are:<br>\n",
    "`['Country', 'Energy Supply', 'Energy Supply per Capita', '% Renewable']`\n",
    "\n",
    "\n",
    "- Convert `Energy Supply` to gigajoules (there are 1,000,000 gigajoules in a petajoule).\n",
    "\n",
    "\n",
    "- For all countries which have missing data (e.g. data with `...`) make sure this is reflected as `np.NaN` values.\n",
    "\n",
    "\n",
    "- Rename the following list of countries (for use in later questions):\n",
    "    - `Republic of Korea`: `South Korea`,\n",
    "    - `United States of America`: `United States`,\n",
    "    - `United Kingdom of Great Britain and Northern Ireland`: `United Kingdom`,\n",
    "    - `China, Hong Kong Special Administrative Region`: `Hong Kong`\n",
    "\n",
    "\n",
    "- There are also several countries with numbers and/or parenthesis in their name. Be sure to remove these, e.g.:\n",
    "    - `Bolivia (Plurinational State of)` should be `Bolivia`,\n",
    "    - `Switzerland17` should be `Switzerland`.\n",
    "\n",
    "\n",
    "- Next, load the GDP data from the file [\"world_bank.csv\"](http://data.worldbank.org/indicator/NY.GDP.MKTP.CD). \n",
    "It is a csv containing countries' GDP from 1960 to 2015 from World Bank. Call this DataFrame \"GDP\"\n",
    "\n",
    "\n",
    "- Make sure to skip the header, and rename the following list of countries:\n",
    "    - `Korea, Rep.`: `South Korea`,\n",
    "    - `Iran, Islamic Rep.`: `Iran`,\n",
    "    - `Hong Kong SAR, China`: `Hong Kong`\n",
    "\n",
    "\n",
    "- Finally, load the \"Sciamgo Journal and Country Rank data for [Energy Engineering and Power Technology\"](http://www.scimagojr.com/countryrank.php?category=2102). It ranks countries based on their journal contributions in the aforementioned area. Call this DataFrame \"ScimEn\"\n",
    "\n",
    "\n",
    "- Join the three datasets: Energy, GDP, and ScimEn into a new dataset (using the intersection of country names). Use only the 10 years (2006-2015) of GDP data and only the top 15 countries by Scimagojr 'Rank' (Rank 1 through 15).\n",
    "\n",
    "\n",
    "- The index of this DataFrame should be the name of the country, and the columns should be<br>\n",
    "`['Rank', 'Documents', 'Citable documents', 'Citations', 'Self-citations', 'Citations per document', 'H index', 'Energy Supply', 'Energy Supply per Capita', '% Renewable', '2006', '2007', '2008', '2009', '2010', '2011', 2012', '2013', '2014', '2015']`\n",
    "\n",
    "Function \"answer_one\" should return the resulted DataFrame (20 columns and 15 entries)"
   ]
  },
  {
   "cell_type": "code",
   "execution_count": 1,
   "metadata": {},
   "outputs": [],
   "source": [
    "import pandas as pd\n",
    "import numpy as np\n",
    "\n",
    "def answer_one():\n",
    "    file_name = 'Energy Indicators.xls'\n",
    "    En_df = pd.read_excel(file_name, skiprows=16, skipfooter=283-245)\n",
    "    En_df = En_df.drop(['Unnamed: 0', 'Unnamed: 1'], axis=1)\n",
    "    En_df.rename(columns={'Unnamed: 2': 'Country', 'Renewable Electricity Production':'% Renewable'}, inplace=True)\n",
    "    En_df = En_df.drop(En_df.index[0])\n",
    "\n",
    "    for col in En_df.columns[1:-1]:\n",
    "        En_df[col] = En_df[col].mask(En_df[col].str.isnumeric() == False, np.nan).astype(float)\n",
    "\n",
    "    En_df['Energy Supply'] = En_df['Energy Supply']*1000000\n",
    "\n",
    "    En_df['Country'] = En_df['Country'].str.replace('\\d+', '') # delete numbers\n",
    "    En_df['Country'] = En_df['Country'].str.replace(r' \\([^)]*\\)',\"\") #delete \n",
    "    En_df['Country'] = En_df['Country'].replace({'Republic of Korea':'South Korea',\n",
    "                          'United States of America': 'United States',\n",
    "                          'United Kingdom of Great Britain and Northern Ireland': 'United Kingdom',\n",
    "                          'China, Hong Kong Special Administrative Region': 'Hong Kong'})\n",
    "\n",
    "    GDP = pd.read_csv('API_NY.GDP.MKTP.CD_DS2_en_csv_v2_2531304.csv', skiprows=4)\n",
    "    GDP['Country Name'] = GDP['Country Name'].replace({'Korea, Rep.': 'South Korea',\n",
    "                                                    'Iran, Islamic Rep.': 'Iran',\n",
    "                                                    'Hong Kong SAR, China': 'Hong Kong'})\n",
    "\n",
    "    GDP.rename(columns={'Country Name': 'Country'}, inplace= True)\n",
    "    ScimEn = pd.read_excel('scimagojr country rank 1996-2020.xlsx')\n",
    "\n",
    "    gdp_year_list = np.array(['Country','2006', '2007', '2008', '2009', '2010', '2011', '2012', '2013', '2014', '2015'])\n",
    "\n",
    "    for i in GDP.columns:\n",
    "        if i not in gdp_year_list:\n",
    "            GDP = GDP.drop(i, axis=1)\n",
    "\n",
    "    ScimEn = ScimEn.nsmallest(15, 'Rank')\n",
    "    GDP_ScimEn = pd.merge (GDP, ScimEn, how='inner', on='Country')\n",
    "    En_GDP_ScimEn = pd.merge(GDP_ScimEn, En_df, how='inner', on='Country')\n",
    "    En_GDP_ScimEn.set_index('Country', inplace=True)\n",
    "    En_GDP_ScimEn.drop('Region', axis=1, inplace=True)\n",
    "    En_GDP_ScimEn.shape\n",
    "    \n",
    "    return En_GDP_ScimEn"
   ]
  },
  {
   "cell_type": "markdown",
   "metadata": {},
   "source": [
    "## Answer the following questions in the context of only the top 15 countries by Scimagojr Rank (aka the DataFrame returned by `answer_one()`)"
   ]
  },
  {
   "cell_type": "markdown",
   "metadata": {},
   "source": [
    "### Question 2\n",
    "What is the average GDP over the last 10 years for each country? (exclude missing values from this calculation.)\n",
    "\n",
    "*This function should return a Series named `avgGDP` with 15 countries and their average GDP sorted in descending order.*"
   ]
  },
  {
   "cell_type": "code",
   "execution_count": 4,
   "metadata": {
    "scrolled": true
   },
   "outputs": [
    {
     "name": "stderr",
     "output_type": "stream",
     "text": [
      "<ipython-input-1-78c34abc58f4>:16: FutureWarning: The default value of regex will change from True to False in a future version.\n",
      "  En_df['Country'] = En_df['Country'].str.replace('\\d+', '') # delete numbers\n",
      "<ipython-input-1-78c34abc58f4>:17: FutureWarning: The default value of regex will change from True to False in a future version.\n",
      "  En_df['Country'] = En_df['Country'].str.replace(r' \\([^)]*\\)',\"\") #delete\n"
     ]
    },
    {
     "data": {
      "text/plain": [
       "Country\n",
       "United States         1.566966e+13\n",
       "China                 6.927702e+12\n",
       "Japan                 5.177131e+12\n",
       "Germany               3.518225e+12\n",
       "United Kingdom        2.776607e+12\n",
       "France                2.687371e+12\n",
       "Italy                 2.139775e+12\n",
       "Brazil                1.988885e+12\n",
       "Russian Federation    1.666746e+12\n",
       "Canada                1.613835e+12\n",
       "India                 1.602352e+12\n",
       "Spain                 1.398587e+12\n",
       "South Korea           1.221372e+12\n",
       "Australia             1.206526e+12\n",
       "Iran                  4.389286e+11\n",
       "Name: avgGDP, dtype: float64"
      ]
     },
     "execution_count": 4,
     "metadata": {},
     "output_type": "execute_result"
    }
   ],
   "source": [
    "def answer_two():\n",
    "    En_GDP_ScimEn = answer_one()\n",
    "    avg = 0\n",
    "    k = 0\n",
    "    for col in En_GDP_ScimEn.columns:\n",
    "        if col.isnumeric() == True:\n",
    "            k += 1\n",
    "            avg += En_GDP_ScimEn[col]\n",
    "        En_GDP_ScimEn['avgGDP'] = avg/k\n",
    "        \n",
    "    top_15 = En_GDP_ScimEn['avgGDP'].sort_values(ascending=False)\n",
    "    return top_15\n",
    "\n",
    "answer_two()"
   ]
  },
  {
   "cell_type": "markdown",
   "metadata": {},
   "source": [
    "### Question 3\n",
    "By how much had the GDP changed over the 10 year span for the country with the 6th largest average GDP?\n",
    "\n",
    "*This function should return a single number.*"
   ]
  },
  {
   "cell_type": "code",
   "execution_count": 16,
   "metadata": {
    "scrolled": true
   },
   "outputs": [
    {
     "name": "stderr",
     "output_type": "stream",
     "text": [
      "<ipython-input-1-78c34abc58f4>:16: FutureWarning: The default value of regex will change from True to False in a future version.\n",
      "  En_df['Country'] = En_df['Country'].str.replace('\\d+', '') # delete numbers\n",
      "<ipython-input-1-78c34abc58f4>:17: FutureWarning: The default value of regex will change from True to False in a future version.\n",
      "  En_df['Country'] = En_df['Country'].str.replace(r' \\([^)]*\\)',\"\") #delete\n"
     ]
    },
    {
     "data": {
      "text/plain": [
       "119614244263.37988"
      ]
     },
     "execution_count": 16,
     "metadata": {},
     "output_type": "execute_result"
    }
   ],
   "source": [
    "def answer_three():\n",
    "    En_GDP_ScimEn = answer_one()\n",
    "    top_15 = answer_two()\n",
    "    ind = top_15.index[5]\n",
    "    result = En_GDP_ScimEn.loc[ind]['2015'] - En_GDP_ScimEn.loc[ind]['2006']\n",
    "    return result\n",
    "\n",
    "answer_three()"
   ]
  },
  {
   "cell_type": "markdown",
   "metadata": {},
   "source": [
    "### Question 4\n",
    "\n",
    "Create a new column that is the ratio of Self-Citations to Total Citations. \n",
    "What is the maximum value for this new column, and what country has the highest ratio?\n",
    "\n",
    "*This function should return a tuple with the name of the country and the ratio.*"
   ]
  },
  {
   "cell_type": "code",
   "execution_count": 18,
   "metadata": {},
   "outputs": [
    {
     "name": "stderr",
     "output_type": "stream",
     "text": [
      "<ipython-input-1-78c34abc58f4>:16: FutureWarning: The default value of regex will change from True to False in a future version.\n",
      "  En_df['Country'] = En_df['Country'].str.replace('\\d+', '') # delete numbers\n",
      "<ipython-input-1-78c34abc58f4>:17: FutureWarning: The default value of regex will change from True to False in a future version.\n",
      "  En_df['Country'] = En_df['Country'].str.replace(r' \\([^)]*\\)',\"\") #delete\n"
     ]
    },
    {
     "data": {
      "text/plain": [
       "('China', 0.6912289816173135)"
      ]
     },
     "execution_count": 18,
     "metadata": {},
     "output_type": "execute_result"
    }
   ],
   "source": [
    "def answer_four():\n",
    "    En_GDP_ScimEn = answer_one()\n",
    "    En_GDP_ScimEn['ratio_of_citations'] = En_GDP_ScimEn['Self-citations']/En_GDP_ScimEn['Citations']\n",
    "    En_GDP_ScimEn['ratio_of_citations'].max()\n",
    "    result = En_GDP_ScimEn[En_GDP_ScimEn['ratio_of_citations'] == En_GDP_ScimEn['ratio_of_citations'].max()].index[0], En_GDP_ScimEn['ratio_of_citations'].max()\n",
    "    return result\n",
    "\n",
    "answer_four()"
   ]
  },
  {
   "cell_type": "markdown",
   "metadata": {},
   "source": [
    "### Question 5\n",
    "\n",
    "Create a column that estimates the population using Energy Supply and Energy Supply per capita. \n",
    "What is the third most populous country according to this estimate?\n",
    "\n",
    "*This function should return a single string value.*"
   ]
  },
  {
   "cell_type": "code",
   "execution_count": 25,
   "metadata": {},
   "outputs": [
    {
     "name": "stderr",
     "output_type": "stream",
     "text": [
      "<ipython-input-1-78c34abc58f4>:16: FutureWarning: The default value of regex will change from True to False in a future version.\n",
      "  En_df['Country'] = En_df['Country'].str.replace('\\d+', '') # delete numbers\n",
      "<ipython-input-1-78c34abc58f4>:17: FutureWarning: The default value of regex will change from True to False in a future version.\n",
      "  En_df['Country'] = En_df['Country'].str.replace(r' \\([^)]*\\)',\"\") #delete\n"
     ]
    },
    {
     "data": {
      "text/plain": [
       "'United States'"
      ]
     },
     "execution_count": 25,
     "metadata": {},
     "output_type": "execute_result"
    }
   ],
   "source": [
    "def answer_five():\n",
    "    En_GDP_ScimEn = answer_one()\n",
    "    En_GDP_ScimEn['est_population'] = En_GDP_ScimEn['Energy Supply']/En_GDP_ScimEn['Energy Supply per capita']\n",
    "    result = En_GDP_ScimEn['est_population'].sort_values(ascending=False).index[2]\n",
    "    return result, En_GDP_ScimEn\n",
    "\n",
    "answer_five()[0]"
   ]
  },
  {
   "cell_type": "markdown",
   "metadata": {},
   "source": [
    "### Question 6\n",
    "Create a column that estimates the number of citable documents per person. \n",
    "What is the correlation between the number of citable documents per capita and the energy supply per capita? Use the `.corr()` method, (Pearson's correlation).\n",
    "\n",
    "*This function should return a single number.*\n"
   ]
  },
  {
   "cell_type": "code",
   "execution_count": 26,
   "metadata": {},
   "outputs": [
    {
     "name": "stderr",
     "output_type": "stream",
     "text": [
      "<ipython-input-1-78c34abc58f4>:16: FutureWarning: The default value of regex will change from True to False in a future version.\n",
      "  En_df['Country'] = En_df['Country'].str.replace('\\d+', '') # delete numbers\n",
      "<ipython-input-1-78c34abc58f4>:17: FutureWarning: The default value of regex will change from True to False in a future version.\n",
      "  En_df['Country'] = En_df['Country'].str.replace(r' \\([^)]*\\)',\"\") #delete\n"
     ]
    },
    {
     "data": {
      "text/plain": [
       "0.7434709127726778"
      ]
     },
     "execution_count": 26,
     "metadata": {},
     "output_type": "execute_result"
    }
   ],
   "source": [
    "def answer_six():\n",
    "    En_GDP_ScimEn = answer_five()[1]\n",
    "    En_GDP_ScimEn['citable_doc_per_person'] = En_GDP_ScimEn['Citable documents']/En_GDP_ScimEn['est_population']\n",
    "    result = En_GDP_ScimEn[['citable_doc_per_person', 'Energy Supply per capita']].corr().iloc[0,1]\n",
    "    return result, En\n",
    "\n",
    "answer_six()"
   ]
  },
  {
   "cell_type": "markdown",
   "metadata": {},
   "source": [
    "### Question 7\n",
    "Use the following dictionary to group the Countries by Continent, then create a dateframe that displays the sample size (the number of countries in each continent bin), and the sum, mean, and std deviation for the estimated population of each country.\n",
    "\n",
    "```python\n",
    "ContinentDict  = {'China':'Asia', \n",
    "                  'United States':'North America', \n",
    "                  'Japan':'Asia', \n",
    "                  'United Kingdom':'Europe', \n",
    "                  'Russian Federation':'Europe', \n",
    "                  'Canada':'North America', \n",
    "                  'Germany':'Europe', \n",
    "                  'India':'Asia',\n",
    "                  'France':'Europe', \n",
    "                  'South Korea':'Asia', \n",
    "                  'Italy':'Europe', \n",
    "                  'Spain':'Europe', \n",
    "                  'Iran':'Asia',\n",
    "                  'Australia':'Australia', \n",
    "                  'Brazil':'South America'}\n",
    "```\n",
    "\n",
    "*This function should return a DataFrame with index named Continent `['Asia', 'Australia', 'Europe', 'North America', 'South America']` and columns `['size', 'sum', 'mean', 'std']`*"
   ]
  },
  {
   "cell_type": "code",
   "execution_count": 27,
   "metadata": {},
   "outputs": [
    {
     "name": "stderr",
     "output_type": "stream",
     "text": [
      "<ipython-input-1-78c34abc58f4>:16: FutureWarning: The default value of regex will change from True to False in a future version.\n",
      "  En_df['Country'] = En_df['Country'].str.replace('\\d+', '') # delete numbers\n",
      "<ipython-input-1-78c34abc58f4>:17: FutureWarning: The default value of regex will change from True to False in a future version.\n",
      "  En_df['Country'] = En_df['Country'].str.replace(r' \\([^)]*\\)',\"\") #delete\n"
     ]
    },
    {
     "data": {
      "text/html": [
       "<div>\n",
       "<style scoped>\n",
       "    .dataframe tbody tr th:only-of-type {\n",
       "        vertical-align: middle;\n",
       "    }\n",
       "\n",
       "    .dataframe tbody tr th {\n",
       "        vertical-align: top;\n",
       "    }\n",
       "\n",
       "    .dataframe thead th {\n",
       "        text-align: right;\n",
       "    }\n",
       "</style>\n",
       "<table border=\"1\" class=\"dataframe\">\n",
       "  <thead>\n",
       "    <tr style=\"text-align: right;\">\n",
       "      <th></th>\n",
       "      <th>size</th>\n",
       "      <th>sum</th>\n",
       "      <th>mean</th>\n",
       "      <th>std</th>\n",
       "    </tr>\n",
       "  </thead>\n",
       "  <tbody>\n",
       "    <tr>\n",
       "      <th>Asia</th>\n",
       "      <td>5</td>\n",
       "      <td>2.898666e+09</td>\n",
       "      <td>5.797333e+08</td>\n",
       "      <td>6.790979e+08</td>\n",
       "    </tr>\n",
       "    <tr>\n",
       "      <th>Australia</th>\n",
       "      <td>1</td>\n",
       "      <td>2.331602e+07</td>\n",
       "      <td>2.331602e+07</td>\n",
       "      <td>NaN</td>\n",
       "    </tr>\n",
       "    <tr>\n",
       "      <th>Europe</th>\n",
       "      <td>6</td>\n",
       "      <td>4.579297e+08</td>\n",
       "      <td>7.632161e+07</td>\n",
       "      <td>3.464767e+07</td>\n",
       "    </tr>\n",
       "    <tr>\n",
       "      <th>North America</th>\n",
       "      <td>2</td>\n",
       "      <td>3.528552e+08</td>\n",
       "      <td>1.764276e+08</td>\n",
       "      <td>1.996696e+08</td>\n",
       "    </tr>\n",
       "    <tr>\n",
       "      <th>South America</th>\n",
       "      <td>1</td>\n",
       "      <td>2.059153e+08</td>\n",
       "      <td>2.059153e+08</td>\n",
       "      <td>NaN</td>\n",
       "    </tr>\n",
       "  </tbody>\n",
       "</table>\n",
       "</div>"
      ],
      "text/plain": [
       "               size           sum          mean           std\n",
       "Asia              5  2.898666e+09  5.797333e+08  6.790979e+08\n",
       "Australia         1  2.331602e+07  2.331602e+07           NaN\n",
       "Europe            6  4.579297e+08  7.632161e+07  3.464767e+07\n",
       "North America     2  3.528552e+08  1.764276e+08  1.996696e+08\n",
       "South America     1  2.059153e+08  2.059153e+08           NaN"
      ]
     },
     "execution_count": 27,
     "metadata": {},
     "output_type": "execute_result"
    }
   ],
   "source": [
    "def answer_seven():\n",
    "    En_GDP_ScimEn = answer_five()[1]\n",
    "    ContinentDict  = {'China':'Asia', \n",
    "                  'United States':'North America', \n",
    "                  'Japan':'Asia', \n",
    "                  'United Kingdom':'Europe', \n",
    "                  'Russian Federation':'Europe', \n",
    "                  'Canada':'North America', \n",
    "                  'Germany':'Europe', \n",
    "                  'India':'Asia',\n",
    "                  'France':'Europe', \n",
    "                  'South Korea':'Asia', \n",
    "                  'Italy':'Europe', \n",
    "                  'Spain':'Europe', \n",
    "                  'Iran':'Asia',\n",
    "                  'Australia':'Australia', \n",
    "                  'Brazil':'South America'}\n",
    "    \n",
    "    group_by = En_GDP_ScimEn.groupby(by=ContinentDict, axis=0)\n",
    "    new_df = pd.DataFrame()\n",
    "    new_df['size'] = group_by.size()\n",
    "    new_df['sum'] = group_by['est_population'].sum()\n",
    "    new_df['mean'] = group_by['est_population'].mean()\n",
    "    new_df['std'] = group_by['est_population'].std()\n",
    "    \n",
    "    return new_df\n",
    "\n",
    "answer_seven()"
   ]
  },
  {
   "cell_type": "code",
   "execution_count": null,
   "metadata": {},
   "outputs": [],
   "source": []
  }
 ],
 "metadata": {
  "kernelspec": {
   "display_name": "Python 3",
   "language": "python",
   "name": "python3"
  },
  "language_info": {
   "codemirror_mode": {
    "name": "ipython",
    "version": 3
   },
   "file_extension": ".py",
   "mimetype": "text/x-python",
   "name": "python",
   "nbconvert_exporter": "python",
   "pygments_lexer": "ipython3",
   "version": "3.9.5"
  }
 },
 "nbformat": 4,
 "nbformat_minor": 4
}
